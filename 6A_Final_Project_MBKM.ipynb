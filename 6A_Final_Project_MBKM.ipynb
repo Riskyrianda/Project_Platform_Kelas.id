{
  "nbformat": 4,
  "nbformat_minor": 0,
  "metadata": {
    "colab": {
      "provenance": []
    },
    "kernelspec": {
      "name": "python3",
      "display_name": "Python 3"
    },
    "language_info": {
      "name": "python"
    }
  },
  "cells": [
    {
      "cell_type": "markdown",
      "source": [
        "# Preparation"
      ],
      "metadata": {
        "id": "rCHu2a75JpFn"
      }
    },
    {
      "cell_type": "code",
      "execution_count": null,
      "metadata": {
        "id": "GNn4iK3FYh31"
      },
      "outputs": [],
      "source": [
        "#mengimport package\n",
        "\n",
        "import pandas as pd\n",
        "import numpy as np\n",
        "import matplotlib.pyplot as plt\n",
        "import sklearn\n",
        "import warnings\n",
        "warnings.filterwarnings(\"ignore\", category=DeprecationWarning)\n",
        "import seaborn as sns\n",
        "import datetime\n",
        "from time import time\n",
        "\n",
        "from sklearn.cluster import KMeans, MiniBatchKMeans\n",
        "from sklearn.metrics import silhouette_score\n",
        "from sklearn.preprocessing import StandardScaler, OneHotEncoder\n",
        "from sklearn.pipeline import Pipeline\n",
        "from sklearn.preprocessing import StandardScaler , PolynomialFeatures\n",
        "from sklearn.linear_model import LinearRegression\n",
        "import statsmodels.api as sa\n",
        "import statsmodels.formula.api as sm\n",
        "%matplotlib inline\n",
        "\n",
        "#mengimport metode yang dipakai untuk membagi data menjadi latihan & uji\n",
        "\n",
        "from sklearn.model_selection import cross_val_score\n",
        "from sklearn.model_selection import train_test_split\n",
        "\n",
        "#mengimport Ridge untuk mencegah overfitting sehingga model dapat lebih andal\n",
        "from sklearn.linear_model import Ridge\n",
        "from scipy.stats import kstest, norm, pearsonr\n",
        "import scipy.stats as stats"
      ]
    },
    {
      "cell_type": "markdown",
      "source": [
        "## Eksplor Data Sumber"
      ],
      "metadata": {
        "id": "orfTb661ZHz9"
      }
    },
    {
      "cell_type": "code",
      "source": [
        "# connect data\n",
        "url = \"https://github.com/Riskyrianda/Data_analyst/blob/main/Database_CSV/Project1_6A.csv?raw=true\"\n",
        "data=pd.read_csv(url)\n",
        "data.head()"
      ],
      "metadata": {
        "id": "1Tx7fPzZZIe0",
        "colab": {
          "base_uri": "https://localhost:8080/"
        },
        "outputId": "1cb4478a-f714-4e78-de4c-add86f3fd44d"
      },
      "execution_count": null,
      "outputs": [
        {
          "output_type": "execute_result",
          "data": {
            "text/plain": [
              "                        id_pengguna                       nama_pengguna  \\\n",
              "0  84712c881cf472d8afca2b957cd573b0                             V E****   \n",
              "1  747a026a8dab2607509f154d2c67f51d  Muh*******************************   \n",
              "2  4772f54956a70a1d1546494bb839760b                      WID***********   \n",
              "3  d6be63e9ae829aae2e0c09980e9d76c2       MUH**************************   \n",
              "4  406ab42268988ae9553faba35e3c06f2                 Ann****************   \n",
              "\n",
              "  tanggal_lahir jenis_kelamin                          id_kelas  \\\n",
              "0    1965-01-21        female  29a1e3ee5958cb12970a0c097fbe2089   \n",
              "1    1994-01-04          male  262cf9b725395d261f41ca335b0418c5   \n",
              "2    1986-07-26        female  4f1a38d85810407ee7b6de9b323b1acc   \n",
              "3    1991-08-13          male  89ecd896ec4b7ee6bbdab2f06faddaa8   \n",
              "4    2000-09-02        female  c4826ae22f2d08b3e46d2ac3fe4b793b   \n",
              "\n",
              "                                          nama_kelas  \\\n",
              "0         Men***************************************   \n",
              "1  Men*******************************************...   \n",
              "2                               Gur*****************   \n",
              "3             Men***********************************   \n",
              "4    Tek********************************************   \n",
              "\n",
              "                       bidang_studi  skor_akhir  rating_kelas  \\\n",
              "0      Pengelolaan Keuangan Pribadi        87.0           5.0   \n",
              "1                  Bahasa Indonesia        90.0           5.0   \n",
              "2            Pendidikan & Pelatihan        70.0           5.0   \n",
              "3  Pengolahan dan Penyajian Makanan        73.5           5.0   \n",
              "4                       Soft Skills         NaN           5.0   \n",
              "\n",
              "  aktivitas_belajar  \n",
              "0            daring  \n",
              "1            luring  \n",
              "2            daring  \n",
              "3            daring  \n",
              "4            luring  "
            ],
            "text/html": [
              "\n",
              "  <div id=\"df-9978a8f6-54b0-48f3-8e81-915f12507410\" class=\"colab-df-container\">\n",
              "    <div>\n",
              "<style scoped>\n",
              "    .dataframe tbody tr th:only-of-type {\n",
              "        vertical-align: middle;\n",
              "    }\n",
              "\n",
              "    .dataframe tbody tr th {\n",
              "        vertical-align: top;\n",
              "    }\n",
              "\n",
              "    .dataframe thead th {\n",
              "        text-align: right;\n",
              "    }\n",
              "</style>\n",
              "<table border=\"1\" class=\"dataframe\">\n",
              "  <thead>\n",
              "    <tr style=\"text-align: right;\">\n",
              "      <th></th>\n",
              "      <th>id_pengguna</th>\n",
              "      <th>nama_pengguna</th>\n",
              "      <th>tanggal_lahir</th>\n",
              "      <th>jenis_kelamin</th>\n",
              "      <th>id_kelas</th>\n",
              "      <th>nama_kelas</th>\n",
              "      <th>bidang_studi</th>\n",
              "      <th>skor_akhir</th>\n",
              "      <th>rating_kelas</th>\n",
              "      <th>aktivitas_belajar</th>\n",
              "    </tr>\n",
              "  </thead>\n",
              "  <tbody>\n",
              "    <tr>\n",
              "      <th>0</th>\n",
              "      <td>84712c881cf472d8afca2b957cd573b0</td>\n",
              "      <td>V E****</td>\n",
              "      <td>1965-01-21</td>\n",
              "      <td>female</td>\n",
              "      <td>29a1e3ee5958cb12970a0c097fbe2089</td>\n",
              "      <td>Men***************************************</td>\n",
              "      <td>Pengelolaan Keuangan Pribadi</td>\n",
              "      <td>87.0</td>\n",
              "      <td>5.0</td>\n",
              "      <td>daring</td>\n",
              "    </tr>\n",
              "    <tr>\n",
              "      <th>1</th>\n",
              "      <td>747a026a8dab2607509f154d2c67f51d</td>\n",
              "      <td>Muh*******************************</td>\n",
              "      <td>1994-01-04</td>\n",
              "      <td>male</td>\n",
              "      <td>262cf9b725395d261f41ca335b0418c5</td>\n",
              "      <td>Men*******************************************...</td>\n",
              "      <td>Bahasa Indonesia</td>\n",
              "      <td>90.0</td>\n",
              "      <td>5.0</td>\n",
              "      <td>luring</td>\n",
              "    </tr>\n",
              "    <tr>\n",
              "      <th>2</th>\n",
              "      <td>4772f54956a70a1d1546494bb839760b</td>\n",
              "      <td>WID***********</td>\n",
              "      <td>1986-07-26</td>\n",
              "      <td>female</td>\n",
              "      <td>4f1a38d85810407ee7b6de9b323b1acc</td>\n",
              "      <td>Gur*****************</td>\n",
              "      <td>Pendidikan &amp; Pelatihan</td>\n",
              "      <td>70.0</td>\n",
              "      <td>5.0</td>\n",
              "      <td>daring</td>\n",
              "    </tr>\n",
              "    <tr>\n",
              "      <th>3</th>\n",
              "      <td>d6be63e9ae829aae2e0c09980e9d76c2</td>\n",
              "      <td>MUH**************************</td>\n",
              "      <td>1991-08-13</td>\n",
              "      <td>male</td>\n",
              "      <td>89ecd896ec4b7ee6bbdab2f06faddaa8</td>\n",
              "      <td>Men***********************************</td>\n",
              "      <td>Pengolahan dan Penyajian Makanan</td>\n",
              "      <td>73.5</td>\n",
              "      <td>5.0</td>\n",
              "      <td>daring</td>\n",
              "    </tr>\n",
              "    <tr>\n",
              "      <th>4</th>\n",
              "      <td>406ab42268988ae9553faba35e3c06f2</td>\n",
              "      <td>Ann****************</td>\n",
              "      <td>2000-09-02</td>\n",
              "      <td>female</td>\n",
              "      <td>c4826ae22f2d08b3e46d2ac3fe4b793b</td>\n",
              "      <td>Tek********************************************</td>\n",
              "      <td>Soft Skills</td>\n",
              "      <td>NaN</td>\n",
              "      <td>5.0</td>\n",
              "      <td>luring</td>\n",
              "    </tr>\n",
              "  </tbody>\n",
              "</table>\n",
              "</div>\n",
              "    <div class=\"colab-df-buttons\">\n",
              "\n",
              "  <div class=\"colab-df-container\">\n",
              "    <button class=\"colab-df-convert\" onclick=\"convertToInteractive('df-9978a8f6-54b0-48f3-8e81-915f12507410')\"\n",
              "            title=\"Convert this dataframe to an interactive table.\"\n",
              "            style=\"display:none;\">\n",
              "\n",
              "  <svg xmlns=\"http://www.w3.org/2000/svg\" height=\"24px\" viewBox=\"0 -960 960 960\">\n",
              "    <path d=\"M120-120v-720h720v720H120Zm60-500h600v-160H180v160Zm220 220h160v-160H400v160Zm0 220h160v-160H400v160ZM180-400h160v-160H180v160Zm440 0h160v-160H620v160ZM180-180h160v-160H180v160Zm440 0h160v-160H620v160Z\"/>\n",
              "  </svg>\n",
              "    </button>\n",
              "\n",
              "  <style>\n",
              "    .colab-df-container {\n",
              "      display:flex;\n",
              "      gap: 12px;\n",
              "    }\n",
              "\n",
              "    .colab-df-convert {\n",
              "      background-color: #E8F0FE;\n",
              "      border: none;\n",
              "      border-radius: 50%;\n",
              "      cursor: pointer;\n",
              "      display: none;\n",
              "      fill: #1967D2;\n",
              "      height: 32px;\n",
              "      padding: 0 0 0 0;\n",
              "      width: 32px;\n",
              "    }\n",
              "\n",
              "    .colab-df-convert:hover {\n",
              "      background-color: #E2EBFA;\n",
              "      box-shadow: 0px 1px 2px rgba(60, 64, 67, 0.3), 0px 1px 3px 1px rgba(60, 64, 67, 0.15);\n",
              "      fill: #174EA6;\n",
              "    }\n",
              "\n",
              "    .colab-df-buttons div {\n",
              "      margin-bottom: 4px;\n",
              "    }\n",
              "\n",
              "    [theme=dark] .colab-df-convert {\n",
              "      background-color: #3B4455;\n",
              "      fill: #D2E3FC;\n",
              "    }\n",
              "\n",
              "    [theme=dark] .colab-df-convert:hover {\n",
              "      background-color: #434B5C;\n",
              "      box-shadow: 0px 1px 3px 1px rgba(0, 0, 0, 0.15);\n",
              "      filter: drop-shadow(0px 1px 2px rgba(0, 0, 0, 0.3));\n",
              "      fill: #FFFFFF;\n",
              "    }\n",
              "  </style>\n",
              "\n",
              "    <script>\n",
              "      const buttonEl =\n",
              "        document.querySelector('#df-9978a8f6-54b0-48f3-8e81-915f12507410 button.colab-df-convert');\n",
              "      buttonEl.style.display =\n",
              "        google.colab.kernel.accessAllowed ? 'block' : 'none';\n",
              "\n",
              "      async function convertToInteractive(key) {\n",
              "        const element = document.querySelector('#df-9978a8f6-54b0-48f3-8e81-915f12507410');\n",
              "        const dataTable =\n",
              "          await google.colab.kernel.invokeFunction('convertToInteractive',\n",
              "                                                    [key], {});\n",
              "        if (!dataTable) return;\n",
              "\n",
              "        const docLinkHtml = 'Like what you see? Visit the ' +\n",
              "          '<a target=\"_blank\" href=https://colab.research.google.com/notebooks/data_table.ipynb>data table notebook</a>'\n",
              "          + ' to learn more about interactive tables.';\n",
              "        element.innerHTML = '';\n",
              "        dataTable['output_type'] = 'display_data';\n",
              "        await google.colab.output.renderOutput(dataTable, element);\n",
              "        const docLink = document.createElement('div');\n",
              "        docLink.innerHTML = docLinkHtml;\n",
              "        element.appendChild(docLink);\n",
              "      }\n",
              "    </script>\n",
              "  </div>\n",
              "\n",
              "\n",
              "<div id=\"df-b57ba18e-ac90-4d4b-8863-c3137121c15a\">\n",
              "  <button class=\"colab-df-quickchart\" onclick=\"quickchart('df-b57ba18e-ac90-4d4b-8863-c3137121c15a')\"\n",
              "            title=\"Suggest charts\"\n",
              "            style=\"display:none;\">\n",
              "\n",
              "<svg xmlns=\"http://www.w3.org/2000/svg\" height=\"24px\"viewBox=\"0 0 24 24\"\n",
              "     width=\"24px\">\n",
              "    <g>\n",
              "        <path d=\"M19 3H5c-1.1 0-2 .9-2 2v14c0 1.1.9 2 2 2h14c1.1 0 2-.9 2-2V5c0-1.1-.9-2-2-2zM9 17H7v-7h2v7zm4 0h-2V7h2v10zm4 0h-2v-4h2v4z\"/>\n",
              "    </g>\n",
              "</svg>\n",
              "  </button>\n",
              "\n",
              "<style>\n",
              "  .colab-df-quickchart {\n",
              "      --bg-color: #E8F0FE;\n",
              "      --fill-color: #1967D2;\n",
              "      --hover-bg-color: #E2EBFA;\n",
              "      --hover-fill-color: #174EA6;\n",
              "      --disabled-fill-color: #AAA;\n",
              "      --disabled-bg-color: #DDD;\n",
              "  }\n",
              "\n",
              "  [theme=dark] .colab-df-quickchart {\n",
              "      --bg-color: #3B4455;\n",
              "      --fill-color: #D2E3FC;\n",
              "      --hover-bg-color: #434B5C;\n",
              "      --hover-fill-color: #FFFFFF;\n",
              "      --disabled-bg-color: #3B4455;\n",
              "      --disabled-fill-color: #666;\n",
              "  }\n",
              "\n",
              "  .colab-df-quickchart {\n",
              "    background-color: var(--bg-color);\n",
              "    border: none;\n",
              "    border-radius: 50%;\n",
              "    cursor: pointer;\n",
              "    display: none;\n",
              "    fill: var(--fill-color);\n",
              "    height: 32px;\n",
              "    padding: 0;\n",
              "    width: 32px;\n",
              "  }\n",
              "\n",
              "  .colab-df-quickchart:hover {\n",
              "    background-color: var(--hover-bg-color);\n",
              "    box-shadow: 0 1px 2px rgba(60, 64, 67, 0.3), 0 1px 3px 1px rgba(60, 64, 67, 0.15);\n",
              "    fill: var(--button-hover-fill-color);\n",
              "  }\n",
              "\n",
              "  .colab-df-quickchart-complete:disabled,\n",
              "  .colab-df-quickchart-complete:disabled:hover {\n",
              "    background-color: var(--disabled-bg-color);\n",
              "    fill: var(--disabled-fill-color);\n",
              "    box-shadow: none;\n",
              "  }\n",
              "\n",
              "  .colab-df-spinner {\n",
              "    border: 2px solid var(--fill-color);\n",
              "    border-color: transparent;\n",
              "    border-bottom-color: var(--fill-color);\n",
              "    animation:\n",
              "      spin 1s steps(1) infinite;\n",
              "  }\n",
              "\n",
              "  @keyframes spin {\n",
              "    0% {\n",
              "      border-color: transparent;\n",
              "      border-bottom-color: var(--fill-color);\n",
              "      border-left-color: var(--fill-color);\n",
              "    }\n",
              "    20% {\n",
              "      border-color: transparent;\n",
              "      border-left-color: var(--fill-color);\n",
              "      border-top-color: var(--fill-color);\n",
              "    }\n",
              "    30% {\n",
              "      border-color: transparent;\n",
              "      border-left-color: var(--fill-color);\n",
              "      border-top-color: var(--fill-color);\n",
              "      border-right-color: var(--fill-color);\n",
              "    }\n",
              "    40% {\n",
              "      border-color: transparent;\n",
              "      border-right-color: var(--fill-color);\n",
              "      border-top-color: var(--fill-color);\n",
              "    }\n",
              "    60% {\n",
              "      border-color: transparent;\n",
              "      border-right-color: var(--fill-color);\n",
              "    }\n",
              "    80% {\n",
              "      border-color: transparent;\n",
              "      border-right-color: var(--fill-color);\n",
              "      border-bottom-color: var(--fill-color);\n",
              "    }\n",
              "    90% {\n",
              "      border-color: transparent;\n",
              "      border-bottom-color: var(--fill-color);\n",
              "    }\n",
              "  }\n",
              "</style>\n",
              "\n",
              "  <script>\n",
              "    async function quickchart(key) {\n",
              "      const quickchartButtonEl =\n",
              "        document.querySelector('#' + key + ' button');\n",
              "      quickchartButtonEl.disabled = true;  // To prevent multiple clicks.\n",
              "      quickchartButtonEl.classList.add('colab-df-spinner');\n",
              "      try {\n",
              "        const charts = await google.colab.kernel.invokeFunction(\n",
              "            'suggestCharts', [key], {});\n",
              "      } catch (error) {\n",
              "        console.error('Error during call to suggestCharts:', error);\n",
              "      }\n",
              "      quickchartButtonEl.classList.remove('colab-df-spinner');\n",
              "      quickchartButtonEl.classList.add('colab-df-quickchart-complete');\n",
              "    }\n",
              "    (() => {\n",
              "      let quickchartButtonEl =\n",
              "        document.querySelector('#df-b57ba18e-ac90-4d4b-8863-c3137121c15a button');\n",
              "      quickchartButtonEl.style.display =\n",
              "        google.colab.kernel.accessAllowed ? 'block' : 'none';\n",
              "    })();\n",
              "  </script>\n",
              "</div>\n",
              "    </div>\n",
              "  </div>\n"
            ]
          },
          "metadata": {},
          "execution_count": 2
        }
      ]
    },
    {
      "cell_type": "code",
      "source": [
        "# tampilkan jumlah baris dan data\n",
        "\n",
        "data.shape"
      ],
      "metadata": {
        "colab": {
          "base_uri": "https://localhost:8080/"
        },
        "id": "UmQLp_ngZIj0",
        "outputId": "25167421-2a25-4824-860e-957136dd3bd8"
      },
      "execution_count": null,
      "outputs": [
        {
          "output_type": "execute_result",
          "data": {
            "text/plain": [
              "(8000, 10)"
            ]
          },
          "metadata": {},
          "execution_count": 3
        }
      ]
    },
    {
      "cell_type": "markdown",
      "source": [
        "# Data cleaning"
      ],
      "metadata": {
        "id": "-UeydS6TJLUY"
      }
    },
    {
      "cell_type": "markdown",
      "source": [
        "## Cek Data Duplikat"
      ],
      "metadata": {
        "id": "hy-kExO97AKf"
      }
    },
    {
      "cell_type": "code",
      "source": [
        "# mari kita lihat apakah terdapat duplikat di data kita\n",
        "\n",
        "print(f\" {data.duplicated().sum()} baris data duplikat ditemukan\")"
      ],
      "metadata": {
        "colab": {
          "base_uri": "https://localhost:8080/"
        },
        "id": "HoMjXcNtZJXc",
        "outputId": "8f747e43-2760-40bd-d803-868b14076b38"
      },
      "execution_count": null,
      "outputs": [
        {
          "output_type": "stream",
          "name": "stdout",
          "text": [
            " 7 baris data duplikat ditemukan\n"
          ]
        }
      ]
    },
    {
      "cell_type": "code",
      "source": [
        "# hapus data duplikat\n",
        "\n",
        "\n",
        "data = data.drop_duplicates().reset_index(drop=True)"
      ],
      "metadata": {
        "id": "yGDt_xTqZJaU"
      },
      "execution_count": null,
      "outputs": []
    },
    {
      "cell_type": "code",
      "source": [
        "# Cek Kembali data Duplikat\n",
        "\n",
        "print(f\" {data.duplicated().sum()} baris data duplikat ditemukan\")"
      ],
      "metadata": {
        "id": "ecV1dIFY9f7Q",
        "colab": {
          "base_uri": "https://localhost:8080/"
        },
        "outputId": "75242039-fa41-4ed2-e0b6-d8257cf5e593"
      },
      "execution_count": null,
      "outputs": [
        {
          "output_type": "stream",
          "name": "stdout",
          "text": [
            " 0 baris data duplikat ditemukan\n"
          ]
        }
      ]
    },
    {
      "cell_type": "markdown",
      "source": [
        "## Pengecekan Missing Value\n",
        "\n"
      ],
      "metadata": {
        "id": "xdKPbILXZIp0"
      }
    },
    {
      "cell_type": "code",
      "source": [
        "# Cek missing values\n",
        "\n",
        "missing_values = data.isnull().sum()\n",
        "print(missing_values)\n"
      ],
      "metadata": {
        "id": "Pir1V7MVYNFT",
        "colab": {
          "base_uri": "https://localhost:8080/"
        },
        "outputId": "31790534-cad3-483c-f436-a55737977344"
      },
      "execution_count": null,
      "outputs": [
        {
          "output_type": "stream",
          "name": "stdout",
          "text": [
            "id_pengguna             0\n",
            "nama_pengguna           1\n",
            "tanggal_lahir           0\n",
            "jenis_kelamin         659\n",
            "id_kelas                0\n",
            "nama_kelas              0\n",
            "bidang_studi            5\n",
            "skor_akhir           1563\n",
            "rating_kelas         1040\n",
            "aktivitas_belajar       0\n",
            "dtype: int64\n"
          ]
        }
      ]
    },
    {
      "cell_type": "code",
      "source": [
        "data.info()"
      ],
      "metadata": {
        "id": "UhXg7FjIMHc-",
        "colab": {
          "base_uri": "https://localhost:8080/"
        },
        "outputId": "1ccbf0c8-291d-496d-c93d-f20dec1b77da"
      },
      "execution_count": null,
      "outputs": [
        {
          "output_type": "stream",
          "name": "stdout",
          "text": [
            "<class 'pandas.core.frame.DataFrame'>\n",
            "RangeIndex: 7993 entries, 0 to 7992\n",
            "Data columns (total 10 columns):\n",
            " #   Column             Non-Null Count  Dtype  \n",
            "---  ------             --------------  -----  \n",
            " 0   id_pengguna        7993 non-null   object \n",
            " 1   nama_pengguna      7992 non-null   object \n",
            " 2   tanggal_lahir      7993 non-null   object \n",
            " 3   jenis_kelamin      7334 non-null   object \n",
            " 4   id_kelas           7993 non-null   object \n",
            " 5   nama_kelas         7993 non-null   object \n",
            " 6   bidang_studi       7988 non-null   object \n",
            " 7   skor_akhir         6430 non-null   float64\n",
            " 8   rating_kelas       6953 non-null   float64\n",
            " 9   aktivitas_belajar  7993 non-null   object \n",
            "dtypes: float64(2), object(8)\n",
            "memory usage: 624.6+ KB\n"
          ]
        }
      ]
    },
    {
      "cell_type": "code",
      "source": [
        "# Proporsi missing value di tiap var\n",
        "\n",
        "(data.isna().sum() / data.shape[0]) * 100"
      ],
      "metadata": {
        "id": "ujfpMwUtfQ5J",
        "colab": {
          "base_uri": "https://localhost:8080/"
        },
        "outputId": "6121c096-0f1f-4523-8ea5-e4233278df30"
      },
      "execution_count": null,
      "outputs": [
        {
          "output_type": "execute_result",
          "data": {
            "text/plain": [
              "id_pengguna           0.000000\n",
              "nama_pengguna         0.012511\n",
              "tanggal_lahir         0.000000\n",
              "jenis_kelamin         8.244714\n",
              "id_kelas              0.000000\n",
              "nama_kelas            0.000000\n",
              "bidang_studi          0.062555\n",
              "skor_akhir           19.554610\n",
              "rating_kelas         13.011385\n",
              "aktivitas_belajar     0.000000\n",
              "dtype: float64"
            ]
          },
          "metadata": {},
          "execution_count": 9
        }
      ]
    },
    {
      "cell_type": "code",
      "source": [
        "#Hapus data dengan persentase missing value lebih dari 5%\n",
        "data.dropna(subset=['nama_pengguna'], inplace=True)\n",
        "data.dropna(subset=['bidang_studi'], inplace=True)"
      ],
      "metadata": {
        "id": "OpIbxdR9YqwJ"
      },
      "execution_count": null,
      "outputs": []
    },
    {
      "cell_type": "markdown",
      "source": [
        "## Imputasi / Mengisi missing values"
      ],
      "metadata": {
        "id": "16jMQl-Wnhus"
      }
    },
    {
      "cell_type": "code",
      "source": [
        "# Menampilkan data jenis kelamin\n",
        "count_jenis_kelamin = data['jenis_kelamin'].value_counts()\n",
        "print(count_jenis_kelamin)"
      ],
      "metadata": {
        "id": "mgusIZtsuf1B",
        "colab": {
          "base_uri": "https://localhost:8080/"
        },
        "outputId": "3fbcae96-06ce-43b1-b1f3-6006e8ed93aa"
      },
      "execution_count": null,
      "outputs": [
        {
          "output_type": "stream",
          "name": "stdout",
          "text": [
            "male         3789\n",
            "female       3506\n",
            "Perempuan      17\n",
            "Laki-laki      16\n",
            "Name: jenis_kelamin, dtype: int64\n"
          ]
        }
      ]
    },
    {
      "cell_type": "code",
      "source": [
        "# Mengganti nilai Business Management ke Bisnis Manajemen\n",
        "data['bidang_studi'] = data['bidang_studi'].replace({'Bisnis & Manajemen': 'Bisnis Manajemen', 'Business Management': 'Bisnis Manajemen'})\n",
        "\n",
        "# Menampilkan hasil\n",
        "print(data)\n"
      ],
      "metadata": {
        "colab": {
          "base_uri": "https://localhost:8080/"
        },
        "id": "EehPPB1vIJR5",
        "outputId": "759b4640-120f-4623-92dc-90df5f0e7fab"
      },
      "execution_count": null,
      "outputs": [
        {
          "output_type": "stream",
          "name": "stdout",
          "text": [
            "                           id_pengguna                       nama_pengguna  \\\n",
            "0     84712c881cf472d8afca2b957cd573b0                             V E****   \n",
            "1     747a026a8dab2607509f154d2c67f51d  Muh*******************************   \n",
            "2     4772f54956a70a1d1546494bb839760b                      WID***********   \n",
            "3     d6be63e9ae829aae2e0c09980e9d76c2       MUH**************************   \n",
            "4     406ab42268988ae9553faba35e3c06f2                 Ann****************   \n",
            "...                                ...                                 ...   \n",
            "7988  bc98fdd893e5aca3d4c8446b418b712f                             Ros****   \n",
            "7989  2b9998c2c60175c9d4993af96545b851                      SAN***********   \n",
            "7990  3b6f6030630e0449e71b72476b38429f                     M F************   \n",
            "7991  f4b6e9a1b3d496c8511ae9f31b7b10da                       LIL**********   \n",
            "7992  19e0cfe1c78ce38e4ec4fe8430840819    ELI*****************************   \n",
            "\n",
            "     tanggal_lahir jenis_kelamin                          id_kelas  \\\n",
            "0       1965-01-21        female  29a1e3ee5958cb12970a0c097fbe2089   \n",
            "1       1994-01-04          male  262cf9b725395d261f41ca335b0418c5   \n",
            "2       1986-07-26        female  4f1a38d85810407ee7b6de9b323b1acc   \n",
            "3       1991-08-13          male  89ecd896ec4b7ee6bbdab2f06faddaa8   \n",
            "4       2000-09-02        female  c4826ae22f2d08b3e46d2ac3fe4b793b   \n",
            "...            ...           ...                               ...   \n",
            "7988    1987-11-04        female  257372241ad5ceb24ba55386eae9d00f   \n",
            "7989    1991-05-25          male  b0d37a2a040d1045dd68b082807eb868   \n",
            "7990    1998-08-05          male  aa41c933852d886fdfaa96643402b69a   \n",
            "7991    1979-07-07        female  59b528760a14a73d90e8c6ec6b2b0848   \n",
            "7992    1997-06-18        female  8aec0ed033c1bc7a9833bd2e4f0f72e0   \n",
            "\n",
            "                                             nama_kelas  \\\n",
            "0            Men***************************************   \n",
            "1     Men*******************************************...   \n",
            "2                                  Gur*****************   \n",
            "3                Men***********************************   \n",
            "4       Tek********************************************   \n",
            "...                                                 ...   \n",
            "7988           Mem*************************************   \n",
            "7989        Pem****************************************   \n",
            "7990  Bel*******************************************...   \n",
            "7991  Mem*******************************************...   \n",
            "7992       Men*****************************************   \n",
            "\n",
            "                                          bidang_studi  skor_akhir  \\\n",
            "0                         Pengelolaan Keuangan Pribadi       87.00   \n",
            "1                                     Bahasa Indonesia       90.00   \n",
            "2                               Pendidikan & Pelatihan       70.00   \n",
            "3                     Pengolahan dan Penyajian Makanan       73.50   \n",
            "4                                          Soft Skills         NaN   \n",
            "...                                                ...         ...   \n",
            "7988                                         Pemasaran       84.98   \n",
            "7989                                   Web Development       51.25   \n",
            "7990                                     Desain Grafis         NaN   \n",
            "7991                                     Akidah Akhlaq       96.00   \n",
            "7992  Perawatan Wajah, Badan (Body Massage) dan Waxing       96.00   \n",
            "\n",
            "      rating_kelas aktivitas_belajar  \n",
            "0              5.0            daring  \n",
            "1              5.0            luring  \n",
            "2              5.0            daring  \n",
            "3              5.0            daring  \n",
            "4              5.0            luring  \n",
            "...            ...               ...  \n",
            "7988           5.0            daring  \n",
            "7989           5.0            luring  \n",
            "7990           NaN            luring  \n",
            "7991           5.0            luring  \n",
            "7992           5.0            luring  \n",
            "\n",
            "[7987 rows x 10 columns]\n"
          ]
        }
      ]
    },
    {
      "cell_type": "code",
      "source": [
        "# Mengganti nilai 'Perempuan' dan 'Laki-laki' menjadi 'female' dan 'male'\n",
        "data['jenis_kelamin'] = data['jenis_kelamin'].replace({'Perempuan': 'female', 'Laki-laki': 'male'})\n",
        "\n",
        "# Menampilkan hasil\n",
        "print(data)\n"
      ],
      "metadata": {
        "id": "l4qivfO8x5Iw",
        "colab": {
          "base_uri": "https://localhost:8080/"
        },
        "outputId": "242186f0-2639-4bd4-a0d1-3a9955025585"
      },
      "execution_count": null,
      "outputs": [
        {
          "output_type": "stream",
          "name": "stdout",
          "text": [
            "                           id_pengguna                       nama_pengguna  \\\n",
            "0     84712c881cf472d8afca2b957cd573b0                             V E****   \n",
            "1     747a026a8dab2607509f154d2c67f51d  Muh*******************************   \n",
            "2     4772f54956a70a1d1546494bb839760b                      WID***********   \n",
            "3     d6be63e9ae829aae2e0c09980e9d76c2       MUH**************************   \n",
            "4     406ab42268988ae9553faba35e3c06f2                 Ann****************   \n",
            "...                                ...                                 ...   \n",
            "7988  bc98fdd893e5aca3d4c8446b418b712f                             Ros****   \n",
            "7989  2b9998c2c60175c9d4993af96545b851                      SAN***********   \n",
            "7990  3b6f6030630e0449e71b72476b38429f                     M F************   \n",
            "7991  f4b6e9a1b3d496c8511ae9f31b7b10da                       LIL**********   \n",
            "7992  19e0cfe1c78ce38e4ec4fe8430840819    ELI*****************************   \n",
            "\n",
            "     tanggal_lahir jenis_kelamin                          id_kelas  \\\n",
            "0       1965-01-21        female  29a1e3ee5958cb12970a0c097fbe2089   \n",
            "1       1994-01-04          male  262cf9b725395d261f41ca335b0418c5   \n",
            "2       1986-07-26        female  4f1a38d85810407ee7b6de9b323b1acc   \n",
            "3       1991-08-13          male  89ecd896ec4b7ee6bbdab2f06faddaa8   \n",
            "4       2000-09-02        female  c4826ae22f2d08b3e46d2ac3fe4b793b   \n",
            "...            ...           ...                               ...   \n",
            "7988    1987-11-04        female  257372241ad5ceb24ba55386eae9d00f   \n",
            "7989    1991-05-25          male  b0d37a2a040d1045dd68b082807eb868   \n",
            "7990    1998-08-05          male  aa41c933852d886fdfaa96643402b69a   \n",
            "7991    1979-07-07        female  59b528760a14a73d90e8c6ec6b2b0848   \n",
            "7992    1997-06-18        female  8aec0ed033c1bc7a9833bd2e4f0f72e0   \n",
            "\n",
            "                                             nama_kelas  \\\n",
            "0            Men***************************************   \n",
            "1     Men*******************************************...   \n",
            "2                                  Gur*****************   \n",
            "3                Men***********************************   \n",
            "4       Tek********************************************   \n",
            "...                                                 ...   \n",
            "7988           Mem*************************************   \n",
            "7989        Pem****************************************   \n",
            "7990  Bel*******************************************...   \n",
            "7991  Mem*******************************************...   \n",
            "7992       Men*****************************************   \n",
            "\n",
            "                                          bidang_studi  skor_akhir  \\\n",
            "0                         Pengelolaan Keuangan Pribadi       87.00   \n",
            "1                                     Bahasa Indonesia       90.00   \n",
            "2                               Pendidikan & Pelatihan       70.00   \n",
            "3                     Pengolahan dan Penyajian Makanan       73.50   \n",
            "4                                          Soft Skills         NaN   \n",
            "...                                                ...         ...   \n",
            "7988                                         Pemasaran       84.98   \n",
            "7989                                   Web Development       51.25   \n",
            "7990                                     Desain Grafis         NaN   \n",
            "7991                                     Akidah Akhlaq       96.00   \n",
            "7992  Perawatan Wajah, Badan (Body Massage) dan Waxing       96.00   \n",
            "\n",
            "      rating_kelas aktivitas_belajar  \n",
            "0              5.0            daring  \n",
            "1              5.0            luring  \n",
            "2              5.0            daring  \n",
            "3              5.0            daring  \n",
            "4              5.0            luring  \n",
            "...            ...               ...  \n",
            "7988           5.0            daring  \n",
            "7989           5.0            luring  \n",
            "7990           NaN            luring  \n",
            "7991           5.0            luring  \n",
            "7992           5.0            luring  \n",
            "\n",
            "[7987 rows x 10 columns]\n"
          ]
        }
      ]
    },
    {
      "cell_type": "code",
      "source": [
        "#cek ulang nilai di kolom jenis_kelamin\n",
        "count_jenis_kelamin = data['jenis_kelamin'].value_counts()\n",
        "print(count_jenis_kelamin)"
      ],
      "metadata": {
        "id": "0BIcWtjTyEXM",
        "colab": {
          "base_uri": "https://localhost:8080/"
        },
        "outputId": "54790dac-37b7-416c-dbe1-f9677aff2793"
      },
      "execution_count": null,
      "outputs": [
        {
          "output_type": "stream",
          "name": "stdout",
          "text": [
            "male      3805\n",
            "female    3523\n",
            "Name: jenis_kelamin, dtype: int64\n"
          ]
        }
      ]
    },
    {
      "cell_type": "code",
      "source": [
        "#imputasi nilai missing value di jenis_kelamin dengan modus \"male\"\n",
        "data['jenis_kelamin'].fillna('male', inplace=True)"
      ],
      "metadata": {
        "id": "g9jxUdmRyPET"
      },
      "execution_count": null,
      "outputs": []
    },
    {
      "cell_type": "code",
      "source": [
        "#cek nilai data skor akhir\n",
        "median_skor_akhir = data['skor_akhir'].median()\n",
        "\n",
        "# Menampilkan nilai tengah\n",
        "print(\"Nilai Tengah (Median) dari skor_akhir:\", median_skor_akhir)"
      ],
      "metadata": {
        "id": "wtMDq0-yyvNO",
        "colab": {
          "base_uri": "https://localhost:8080/"
        },
        "outputId": "68ee9469-18e9-4bbf-ee5b-be11a56ce32d"
      },
      "execution_count": null,
      "outputs": [
        {
          "output_type": "stream",
          "name": "stdout",
          "text": [
            "Nilai Tengah (Median) dari skor_akhir: 81.75\n"
          ]
        }
      ]
    },
    {
      "cell_type": "code",
      "source": [
        "count_skor_akhir = data['skor_akhir'].value_counts()\n",
        "print(count_skor_akhir)"
      ],
      "metadata": {
        "colab": {
          "base_uri": "https://localhost:8080/"
        },
        "id": "bL4zB5_3xwoE",
        "outputId": "836430da-a3a0-4aab-8cae-4cbad5388d3c"
      },
      "execution_count": null,
      "outputs": [
        {
          "output_type": "stream",
          "name": "stdout",
          "text": [
            "100.00    604\n",
            "0.00      487\n",
            "80.00     332\n",
            "90.00     251\n",
            "70.00     151\n",
            "         ... \n",
            "29.00       1\n",
            "7.30        1\n",
            "74.85       1\n",
            "89.70       1\n",
            "51.25       1\n",
            "Name: skor_akhir, Length: 546, dtype: int64\n"
          ]
        }
      ]
    },
    {
      "cell_type": "code",
      "source": [
        "#imputasi missing value pada skor_akhir dengan median\n",
        "data['skor_akhir'].fillna('81.7', inplace=True)"
      ],
      "metadata": {
        "id": "MDSqjeV61IUE"
      },
      "execution_count": null,
      "outputs": []
    },
    {
      "cell_type": "code",
      "source": [
        "#cek nilai data di rating_kelas\n",
        "count_rating_kelas = data['rating_kelas'].value_counts()\n",
        "print(count_rating_kelas)"
      ],
      "metadata": {
        "id": "ovrZxxQT1nuK",
        "colab": {
          "base_uri": "https://localhost:8080/"
        },
        "outputId": "fcdd27a7-b825-4738-f1d1-c9d5045ba793"
      },
      "execution_count": null,
      "outputs": [
        {
          "output_type": "stream",
          "name": "stdout",
          "text": [
            "5.0    6356\n",
            "4.0     467\n",
            "3.0      97\n",
            "1.0      20\n",
            "2.0       9\n",
            "Name: rating_kelas, dtype: int64\n"
          ]
        }
      ]
    },
    {
      "cell_type": "code",
      "source": [
        "# kita lakukan imputasi pada rating kelas dengan nilai modus \"5.0\"\n",
        "data['rating_kelas'].fillna('5.0', inplace=True)\n"
      ],
      "metadata": {
        "id": "_0F9fHC4_QOq"
      },
      "execution_count": null,
      "outputs": []
    },
    {
      "cell_type": "code",
      "source": [
        "#Cek kembali Proporsi missing value di tiap var setelah dilakukan imputasi\n",
        "\n",
        "(data.isna().sum() / data.shape[0]) * 100"
      ],
      "metadata": {
        "id": "uuXC8SBQ_ltu",
        "colab": {
          "base_uri": "https://localhost:8080/"
        },
        "outputId": "a69402ce-b80f-4b78-93db-197dd3c3521b"
      },
      "execution_count": null,
      "outputs": [
        {
          "output_type": "execute_result",
          "data": {
            "text/plain": [
              "id_pengguna          0.0\n",
              "nama_pengguna        0.0\n",
              "tanggal_lahir        0.0\n",
              "jenis_kelamin        0.0\n",
              "id_kelas             0.0\n",
              "nama_kelas           0.0\n",
              "bidang_studi         0.0\n",
              "skor_akhir           0.0\n",
              "rating_kelas         0.0\n",
              "aktivitas_belajar    0.0\n",
              "dtype: float64"
            ]
          },
          "metadata": {},
          "execution_count": 21
        }
      ]
    },
    {
      "cell_type": "markdown",
      "source": [
        "## Irrelevant"
      ],
      "metadata": {
        "id": "u6Qpy-6kCo83"
      }
    },
    {
      "cell_type": "code",
      "source": [
        "# Membuat scatter plot\n",
        "\n",
        "plt.scatter(data['tanggal_lahir'], data['skor_akhir'])\n",
        "plt.xlabel('Tanggal Lahir')\n",
        "plt.ylabel('Skor Akhir')\n",
        "plt.show()\n"
      ],
      "metadata": {
        "id": "E1hHkIsiCs_w",
        "colab": {
          "base_uri": "https://localhost:8080/"
        },
        "outputId": "0664dfb0-1399-4a4a-a8f7-b390476f661f"
      },
      "execution_count": null,
      "outputs": [
        {
          "output_type": "display_data",
          "data": {
            "text/plain": [
              "<Figure size 640x480 with 1 Axes>"
            ],
            "image/png": "[encoded data removed]"
          },
          "metadata": {}
        }
      ]
    },
    {
      "cell_type": "markdown",
      "source": [
        "## Outliner"
      ],
      "metadata": {
        "id": "DB_ZHGix1ynW"
      }
    },
    {
      "cell_type": "code",
      "source": [
        "# Hapus Outliner\n",
        "# membuat fungsi cek outlier.\n",
        "def cek_outlier(skor_akhir, batas):\n",
        "  data[skor_akhir] = pd.to_numeric(data[skor_akhir], errors='coerce')\n",
        "\n",
        "  Q1 = np.percentile(data[skor_akhir], 25,\n",
        "                     method = 'midpoint')\n",
        "\n",
        "  Q3 = np.percentile(data[skor_akhir], 75,\n",
        "                     method = 'midpoint')\n",
        "\n",
        "  IQR = Q3 - Q1\n",
        "\n",
        "  if batas == 'upper_bound':\n",
        "      bound = np.where(data[skor_akhir] >= (Q3 + 1.5*IQR))\n",
        "  elif batas == 'lower_bound':\n",
        "      bound = np.where(data[skor_akhir] <= (Q1 - 1.5*IQR))\n",
        "  return list(bound[0])\n",
        "\n",
        "  # jalankan fungsi untuk mendapatkan index data yang merupakan outlier\n",
        "\n",
        "upper_skor_akhir = cek_outlier('skor_akhir', 'upper_bound')\n",
        "lower_skor_akhir = cek_outlier('skor_akhir', 'lower_bound')\n",
        "print(f\" Ditemukan {len(upper_skor_akhir) + len(lower_skor_akhir)} baris outliner pada kolom skor_akhir\")"
      ],
      "metadata": {
        "id": "P4yvNug4REoS",
        "colab": {
          "base_uri": "https://localhost:8080/"
        },
        "outputId": "0f4a91af-adf8-4f29-bc03-95b7b7c3e54e"
      },
      "execution_count": null,
      "outputs": [
        {
          "output_type": "stream",
          "name": "stdout",
          "text": [
            " Ditemukan 931 baris outliner pada kolom skor_akhir\n"
          ]
        }
      ]
    },
    {
      "cell_type": "markdown",
      "source": [
        "## Ditemukan 931 outliner, persentase ouliner 11.63% karena outliner data > 5% maka outliner akan dilakukan imputasi menggunakan nilai modus"
      ],
      "metadata": {
        "id": "hzxs7scwK9y4"
      }
    },
    {
      "cell_type": "code",
      "source": [
        "# Mendapatkan indeks data outliner\n",
        "indeks_outlier = upper_skor_akhir + lower_skor_akhir\n",
        "\n",
        "# Mengubah nilai outlier menjadi 81.7\n",
        "nilai_baru = 81.7\n",
        "data.loc[indeks_outlier, 'skor_akhir'] = nilai_baru\n",
        "\n",
        "# Menampilkan DataFrame setelah mengganti nilai outlier\n",
        "print(data)\n"
      ],
      "metadata": {
        "id": "Mwo3qcxxCNYy",
        "colab": {
          "base_uri": "https://localhost:8080/"
        },
        "outputId": "dc006e20-2ef9-4baa-dedc-8a8356aecef9"
      },
      "execution_count": null,
      "outputs": [
        {
          "output_type": "stream",
          "name": "stdout",
          "text": [
            "                           id_pengguna                       nama_pengguna  \\\n",
            "0     84712c881cf472d8afca2b957cd573b0                             V E****   \n",
            "1     747a026a8dab2607509f154d2c67f51d  Muh*******************************   \n",
            "2     4772f54956a70a1d1546494bb839760b                      WID***********   \n",
            "3     d6be63e9ae829aae2e0c09980e9d76c2       MUH**************************   \n",
            "4     406ab42268988ae9553faba35e3c06f2                 Ann****************   \n",
            "...                                ...                                 ...   \n",
            "7988  bc98fdd893e5aca3d4c8446b418b712f                             Ros****   \n",
            "7989  2b9998c2c60175c9d4993af96545b851                      SAN***********   \n",
            "7990  3b6f6030630e0449e71b72476b38429f                     M F************   \n",
            "7991  f4b6e9a1b3d496c8511ae9f31b7b10da                       LIL**********   \n",
            "7992  19e0cfe1c78ce38e4ec4fe8430840819    ELI*****************************   \n",
            "\n",
            "     tanggal_lahir jenis_kelamin                          id_kelas  \\\n",
            "0       1965-01-21        female  29a1e3ee5958cb12970a0c097fbe2089   \n",
            "1       1994-01-04          male  262cf9b725395d261f41ca335b0418c5   \n",
            "2       1986-07-26        female  4f1a38d85810407ee7b6de9b323b1acc   \n",
            "3       1991-08-13          male  89ecd896ec4b7ee6bbdab2f06faddaa8   \n",
            "4       2000-09-02        female  c4826ae22f2d08b3e46d2ac3fe4b793b   \n",
            "...            ...           ...                               ...   \n",
            "7988    1987-11-04        female  257372241ad5ceb24ba55386eae9d00f   \n",
            "7989    1991-05-25          male  b0d37a2a040d1045dd68b082807eb868   \n",
            "7990    1998-08-05          male  aa41c933852d886fdfaa96643402b69a   \n",
            "7991    1979-07-07        female  59b528760a14a73d90e8c6ec6b2b0848   \n",
            "7992    1997-06-18        female  8aec0ed033c1bc7a9833bd2e4f0f72e0   \n",
            "\n",
            "                                             nama_kelas  \\\n",
            "0            Men***************************************   \n",
            "1     Men*******************************************...   \n",
            "2                                  Gur*****************   \n",
            "3                Men***********************************   \n",
            "4       Tek********************************************   \n",
            "...                                                 ...   \n",
            "7988           Mem*************************************   \n",
            "7989        Pem****************************************   \n",
            "7990  Bel*******************************************...   \n",
            "7991  Mem*******************************************...   \n",
            "7992       Men*****************************************   \n",
            "\n",
            "                                          bidang_studi  skor_akhir  \\\n",
            "0                         Pengelolaan Keuangan Pribadi       87.00   \n",
            "1                                     Bahasa Indonesia       90.00   \n",
            "2                               Pendidikan & Pelatihan       70.00   \n",
            "3                     Pengolahan dan Penyajian Makanan       73.50   \n",
            "4                                          Soft Skills       81.70   \n",
            "...                                                ...         ...   \n",
            "7988                                         Pemasaran       84.98   \n",
            "7989                                   Web Development       51.25   \n",
            "7990                                     Desain Grafis       81.70   \n",
            "7991                                     Akidah Akhlaq       96.00   \n",
            "7992  Perawatan Wajah, Badan (Body Massage) dan Waxing       96.00   \n",
            "\n",
            "     rating_kelas aktivitas_belajar  \n",
            "0             5.0            daring  \n",
            "1             5.0            luring  \n",
            "2             5.0            daring  \n",
            "3             5.0            daring  \n",
            "4             5.0            luring  \n",
            "...           ...               ...  \n",
            "7988          5.0            daring  \n",
            "7989          5.0            luring  \n",
            "7990          5.0            luring  \n",
            "7991          5.0            luring  \n",
            "7992          5.0            luring  \n",
            "\n",
            "[7987 rows x 10 columns]\n"
          ]
        }
      ]
    },
    {
      "cell_type": "code",
      "source": [
        "# Konversi kolom 'tanggal_lahir' ke objek datetime\n",
        "data['tanggal_lahir'] = pd.to_datetime(data['tanggal_lahir'])\n",
        "\n",
        "mask = (data['tanggal_lahir'].dt.year >= 1950) & (data['tanggal_lahir'].dt.year <= 2000)\n",
        "jumlah_data_per_tahun = data[mask]['tanggal_lahir'].dt.year.value_counts().sort_index()\n",
        "\n",
        "# Menampilkan hasil\n",
        "print(jumlah_data_per_tahun)\n"
      ],
      "metadata": {
        "id": "z8kHZn1V8gmt",
        "colab": {
          "base_uri": "https://localhost:8080/"
        },
        "outputId": "96dbd7f7-a384-4cc4-de77-a8d11a378074"
      },
      "execution_count": null,
      "outputs": [
        {
          "output_type": "stream",
          "name": "stdout",
          "text": [
            "1950      1\n",
            "1951      1\n",
            "1952      1\n",
            "1953      2\n",
            "1954      3\n",
            "1955      2\n",
            "1956      3\n",
            "1957      4\n",
            "1958     14\n",
            "1959     16\n",
            "1960     23\n",
            "1961     10\n",
            "1962     29\n",
            "1963     30\n",
            "1964     26\n",
            "1965     42\n",
            "1966     47\n",
            "1967     32\n",
            "1968     49\n",
            "1969     54\n",
            "1970     68\n",
            "1971     52\n",
            "1972     50\n",
            "1973     70\n",
            "1974     64\n",
            "1975     77\n",
            "1976     82\n",
            "1977     82\n",
            "1978     74\n",
            "1979    112\n",
            "1980    140\n",
            "1981    103\n",
            "1982    130\n",
            "1983    113\n",
            "1984    151\n",
            "1985    155\n",
            "1986    163\n",
            "1987    204\n",
            "1988    216\n",
            "1989    262\n",
            "1990    290\n",
            "1991    271\n",
            "1992    334\n",
            "1993    330\n",
            "1994    363\n",
            "1995    405\n",
            "1996    432\n",
            "1997    442\n",
            "1998    455\n",
            "1999    468\n",
            "2000    452\n",
            "Name: tanggal_lahir, dtype: int64\n"
          ]
        }
      ]
    },
    {
      "cell_type": "code",
      "source": [
        "# Menghitung jumlah data berdasarkan tahun lahir antara 1950 dan 2000\n",
        "mask = (data['tanggal_lahir'].dt.year >= 2001) & (data['tanggal_lahir'].dt.year <= 2023)\n",
        "jumlah_data_per_tahun = data[mask]['tanggal_lahir'].dt.year.value_counts().sort_index()\n",
        "\n",
        "# Menampilkan hasil\n",
        "print(jumlah_data_per_tahun)"
      ],
      "metadata": {
        "id": "aY2WyOLo9sQn",
        "colab": {
          "base_uri": "https://localhost:8080/"
        },
        "outputId": "7f615fbc-b0ce-46d4-ddaf-4e5a11697649"
      },
      "execution_count": null,
      "outputs": [
        {
          "output_type": "stream",
          "name": "stdout",
          "text": [
            "2001    335\n",
            "2002    269\n",
            "2003    141\n",
            "2004     38\n",
            "2005      3\n",
            "2006      1\n",
            "2007      1\n",
            "2008      1\n",
            "2009      1\n",
            "2010      1\n",
            "2011      1\n",
            "2013      3\n",
            "2014      3\n",
            "2016      1\n",
            "2017      1\n",
            "2018      2\n",
            "2019      3\n",
            "2020     73\n",
            "2021     64\n",
            "2022     37\n",
            "2023      6\n",
            "Name: tanggal_lahir, dtype: int64\n"
          ]
        }
      ]
    },
    {
      "cell_type": "markdown",
      "source": [
        "## Mengecek nilai data dengan nilai tidak masuk akal, pada kolom tanggal lahir ditemukan data dengan tahun lahir 2007-2023 (belum cukup umur) sebanyak 199 data / 2,48% jadi hapus data"
      ],
      "metadata": {
        "id": "jYaW8E9dKx3Y"
      }
    },
    {
      "cell_type": "code",
      "source": [
        "# Menghapus data dengan tahun lahir antara 2007-2023\n",
        "mask = (data['tanggal_lahir'].dt.year >= 2007) & (data['tanggal_lahir'].dt.year <= 2023)\n",
        "data = data[~mask]\n",
        "\n",
        "# Menampilkan hasil setelah penghapusan\n",
        "print(data)"
      ],
      "metadata": {
        "id": "qpRRnfrrKqA4",
        "colab": {
          "base_uri": "https://localhost:8080/"
        },
        "outputId": "65e128aa-eaf4-45ee-8e55-a33e5b9bd999"
      },
      "execution_count": null,
      "outputs": [
        {
          "output_type": "stream",
          "name": "stdout",
          "text": [
            "                           id_pengguna                       nama_pengguna  \\\n",
            "0     84712c881cf472d8afca2b957cd573b0                             V E****   \n",
            "1     747a026a8dab2607509f154d2c67f51d  Muh*******************************   \n",
            "2     4772f54956a70a1d1546494bb839760b                      WID***********   \n",
            "3     d6be63e9ae829aae2e0c09980e9d76c2       MUH**************************   \n",
            "4     406ab42268988ae9553faba35e3c06f2                 Ann****************   \n",
            "...                                ...                                 ...   \n",
            "7988  bc98fdd893e5aca3d4c8446b418b712f                             Ros****   \n",
            "7989  2b9998c2c60175c9d4993af96545b851                      SAN***********   \n",
            "7990  3b6f6030630e0449e71b72476b38429f                     M F************   \n",
            "7991  f4b6e9a1b3d496c8511ae9f31b7b10da                       LIL**********   \n",
            "7992  19e0cfe1c78ce38e4ec4fe8430840819    ELI*****************************   \n",
            "\n",
            "     tanggal_lahir jenis_kelamin                          id_kelas  \\\n",
            "0       1965-01-21        female  29a1e3ee5958cb12970a0c097fbe2089   \n",
            "1       1994-01-04          male  262cf9b725395d261f41ca335b0418c5   \n",
            "2       1986-07-26        female  4f1a38d85810407ee7b6de9b323b1acc   \n",
            "3       1991-08-13          male  89ecd896ec4b7ee6bbdab2f06faddaa8   \n",
            "4       2000-09-02        female  c4826ae22f2d08b3e46d2ac3fe4b793b   \n",
            "...            ...           ...                               ...   \n",
            "7988    1987-11-04        female  257372241ad5ceb24ba55386eae9d00f   \n",
            "7989    1991-05-25          male  b0d37a2a040d1045dd68b082807eb868   \n",
            "7990    1998-08-05          male  aa41c933852d886fdfaa96643402b69a   \n",
            "7991    1979-07-07        female  59b528760a14a73d90e8c6ec6b2b0848   \n",
            "7992    1997-06-18        female  8aec0ed033c1bc7a9833bd2e4f0f72e0   \n",
            "\n",
            "                                             nama_kelas  \\\n",
            "0            Men***************************************   \n",
            "1     Men*******************************************...   \n",
            "2                                  Gur*****************   \n",
            "3                Men***********************************   \n",
            "4       Tek********************************************   \n",
            "...                                                 ...   \n",
            "7988           Mem*************************************   \n",
            "7989        Pem****************************************   \n",
            "7990  Bel*******************************************...   \n",
            "7991  Mem*******************************************...   \n",
            "7992       Men*****************************************   \n",
            "\n",
            "                                          bidang_studi  skor_akhir  \\\n",
            "0                         Pengelolaan Keuangan Pribadi       87.00   \n",
            "1                                     Bahasa Indonesia       90.00   \n",
            "2                               Pendidikan & Pelatihan       70.00   \n",
            "3                     Pengolahan dan Penyajian Makanan       73.50   \n",
            "4                                          Soft Skills       81.70   \n",
            "...                                                ...         ...   \n",
            "7988                                         Pemasaran       84.98   \n",
            "7989                                   Web Development       51.25   \n",
            "7990                                     Desain Grafis       81.70   \n",
            "7991                                     Akidah Akhlaq       96.00   \n",
            "7992  Perawatan Wajah, Badan (Body Massage) dan Waxing       96.00   \n",
            "\n",
            "     rating_kelas aktivitas_belajar  \n",
            "0             5.0            daring  \n",
            "1             5.0            luring  \n",
            "2             5.0            daring  \n",
            "3             5.0            daring  \n",
            "4             5.0            luring  \n",
            "...           ...               ...  \n",
            "7988          5.0            daring  \n",
            "7989          5.0            luring  \n",
            "7990          5.0            luring  \n",
            "7991          5.0            luring  \n",
            "7992          5.0            luring  \n",
            "\n",
            "[7789 rows x 10 columns]\n"
          ]
        }
      ]
    },
    {
      "cell_type": "code",
      "source": [
        "# tampilkan jumlah baris dan data\n",
        "\n",
        "data.info()"
      ],
      "metadata": {
        "id": "4FCymYH9EajN",
        "colab": {
          "base_uri": "https://localhost:8080/"
        },
        "outputId": "81fa3fe7-8edf-4041-a257-4b7eea3ea225"
      },
      "execution_count": null,
      "outputs": [
        {
          "output_type": "stream",
          "name": "stdout",
          "text": [
            "<class 'pandas.core.frame.DataFrame'>\n",
            "Int64Index: 7789 entries, 0 to 7992\n",
            "Data columns (total 10 columns):\n",
            " #   Column             Non-Null Count  Dtype         \n",
            "---  ------             --------------  -----         \n",
            " 0   id_pengguna        7789 non-null   object        \n",
            " 1   nama_pengguna      7789 non-null   object        \n",
            " 2   tanggal_lahir      7789 non-null   datetime64[ns]\n",
            " 3   jenis_kelamin      7789 non-null   object        \n",
            " 4   id_kelas           7789 non-null   object        \n",
            " 5   nama_kelas         7789 non-null   object        \n",
            " 6   bidang_studi       7789 non-null   object        \n",
            " 7   skor_akhir         7789 non-null   float64       \n",
            " 8   rating_kelas       7789 non-null   object        \n",
            " 9   aktivitas_belajar  7789 non-null   object        \n",
            "dtypes: datetime64[ns](1), float64(1), object(8)\n",
            "memory usage: 669.4+ KB\n"
          ]
        }
      ]
    },
    {
      "cell_type": "code",
      "source": [
        "data.shape"
      ],
      "metadata": {
        "id": "72v1dvzhPueU",
        "colab": {
          "base_uri": "https://localhost:8080/"
        },
        "outputId": "3672d4ce-389a-408a-d5e4-ca46a48445d3"
      },
      "execution_count": null,
      "outputs": [
        {
          "output_type": "execute_result",
          "data": {
            "text/plain": [
              "(7789, 10)"
            ]
          },
          "metadata": {},
          "execution_count": 29
        }
      ]
    },
    {
      "cell_type": "markdown",
      "source": [
        "# Analisis"
      ],
      "metadata": {
        "id": "o0lUnd_qJT2P"
      }
    },
    {
      "cell_type": "markdown",
      "source": [
        "## Bisnis Question 1\n",
        "  Berapa rata-rata jumlah kelas yang diambil oleh setiap pengguna berdasarkan aktivitas belajar?"
      ],
      "metadata": {
        "id": "v53vsj-QtGPN"
      }
    },
    {
      "cell_type": "code",
      "source": [
        "data.info()"
      ],
      "metadata": {
        "colab": {
          "base_uri": "https://localhost:8080/"
        },
        "id": "CJfOISoUtP50",
        "outputId": "840be232-d5b2-4684-bef5-f47ec187de4b"
      },
      "execution_count": null,
      "outputs": [
        {
          "output_type": "stream",
          "name": "stdout",
          "text": [
            "<class 'pandas.core.frame.DataFrame'>\n",
            "Int64Index: 7789 entries, 0 to 7992\n",
            "Data columns (total 10 columns):\n",
            " #   Column             Non-Null Count  Dtype         \n",
            "---  ------             --------------  -----         \n",
            " 0   id_pengguna        7789 non-null   object        \n",
            " 1   nama_pengguna      7789 non-null   object        \n",
            " 2   tanggal_lahir      7789 non-null   datetime64[ns]\n",
            " 3   jenis_kelamin      7789 non-null   object        \n",
            " 4   id_kelas           7789 non-null   object        \n",
            " 5   nama_kelas         7789 non-null   object        \n",
            " 6   bidang_studi       7789 non-null   object        \n",
            " 7   skor_akhir         7789 non-null   float64       \n",
            " 8   rating_kelas       7789 non-null   object        \n",
            " 9   aktivitas_belajar  7789 non-null   object        \n",
            "dtypes: datetime64[ns](1), float64(1), object(8)\n",
            "memory usage: 669.4+ KB\n"
          ]
        }
      ]
    },
    {
      "cell_type": "code",
      "source": [
        "data.shape"
      ],
      "metadata": {
        "colab": {
          "base_uri": "https://localhost:8080/"
        },
        "id": "bSydiUhStTW1",
        "outputId": "58dee308-b24f-41f5-fe3d-f25ee60a75a8"
      },
      "execution_count": null,
      "outputs": [
        {
          "output_type": "execute_result",
          "data": {
            "text/plain": [
              "(7789, 10)"
            ]
          },
          "metadata": {},
          "execution_count": 31
        }
      ]
    },
    {
      "cell_type": "code",
      "source": [
        "#untuk mengetahui rata-rata kelas yang diambil oleh setiap pengguna, kita menggunakan grouping terlebih dahulu\n",
        "jumlah_kelas = data.groupby ('id_pengguna') ['id_kelas'].nunique()\n",
        "rata_rata_kelas = jumlah_kelas.mean ()\n",
        "print ('Rata-rata jumlah kelas yang diambil oleh setiap pengguna adalah', rata_rata_kelas)\n"
      ],
      "metadata": {
        "colab": {
          "base_uri": "https://localhost:8080/"
        },
        "id": "JUAlBRIVtfUN",
        "outputId": "b697cf9d-b791-48f1-bee9-c94f3bed1009"
      },
      "execution_count": null,
      "outputs": [
        {
          "output_type": "stream",
          "name": "stdout",
          "text": [
            "Rata-rata jumlah kelas yang diambil oleh setiap pengguna adalah 1.0064060661524383\n"
          ]
        }
      ]
    },
    {
      "cell_type": "code",
      "source": [
        "jumlah_kelas.describe()"
      ],
      "metadata": {
        "colab": {
          "base_uri": "https://localhost:8080/"
        },
        "id": "9KvU1J_2tfDF",
        "outputId": "206256d1-ec74-4f3b-d4e2-8eb7387aacba"
      },
      "execution_count": null,
      "outputs": [
        {
          "output_type": "execute_result",
          "data": {
            "text/plain": [
              "count    7649.000000\n",
              "mean        1.006406\n",
              "std         0.084560\n",
              "min         1.000000\n",
              "25%         1.000000\n",
              "50%         1.000000\n",
              "75%         1.000000\n",
              "max         3.000000\n",
              "Name: id_kelas, dtype: float64"
            ]
          },
          "metadata": {},
          "execution_count": 33
        }
      ]
    },
    {
      "cell_type": "markdown",
      "source": [
        "Dari hasil analisis di atas ketika di grouping berdasarkan id_kelasnya, terdapat kesimpulan bahwa setiap user **mengambil rata-rata hanya 1 kelas** dan terdapat dengan **1 user maksimal mengambil 3 kelas**"
      ],
      "metadata": {
        "id": "Aq-DpRZ15hdY"
      }
    },
    {
      "cell_type": "markdown",
      "source": [
        "## Bisnis Question 2\n",
        "Apakah skor akhir berkaitan dengan rating yang diberikan oleh pengguna?\n"
      ],
      "metadata": {
        "id": "Fjud6_X26H_K"
      }
    },
    {
      "cell_type": "markdown",
      "source": [
        "karena mencari korelasi, maka saya akan menggunakan variabel skor_akhir dan rating_kelas dan akan memvisualkannya melalui scatter plot.\n",
        "\n",
        "Melakukan uji normalitas menggunakan metode kolmogorov\n",
        "\n",
        "p-value > 0,05\n",
        "\n",
        "H0 = Data berdistribusi normal\n",
        "H1 = Data berdistribusi tidak normal\n",
        "\n",
        "Melakukan uji korelasi dengan menggunakan metode pearson\n",
        "\n",
        "H0 = Tidak terdapat keterkaitan skor_akhir terhadap rating yang diberikan oleh pengguna\n",
        "\n",
        "H1 = terdapat keterkaitan skor_akhir terhadap rating yang diberikan oleh pengguna\n"
      ],
      "metadata": {
        "id": "Cl75hH_W8Rlq"
      }
    },
    {
      "cell_type": "code",
      "source": [
        "data.describe()"
      ],
      "metadata": {
        "colab": {
          "base_uri": "https://localhost:8080/",
          "height": 300
        },
        "id": "zPRfweYCBb08",
        "outputId": "b4dbce43-28d6-4da9-b98a-6d6458f86cd8"
      },
      "execution_count": null,
      "outputs": [
        {
          "output_type": "execute_result",
          "data": {
            "text/plain": [
              "        skor_akhir\n",
              "count  7789.000000\n",
              "mean     77.891167\n",
              "std      20.706783\n",
              "min       0.000000\n",
              "25%      78.000000\n",
              "50%      81.700000\n",
              "75%      87.000000\n",
              "max     100.000000"
            ],
            "text/html": [
              "\n",
              "  <div id=\"df-56efad9a-815b-4098-bef9-230bfc537687\" class=\"colab-df-container\">\n",
              "    <div>\n",
              "<style scoped>\n",
              "    .dataframe tbody tr th:only-of-type {\n",
              "        vertical-align: middle;\n",
              "    }\n",
              "\n",
              "    .dataframe tbody tr th {\n",
              "        vertical-align: top;\n",
              "    }\n",
              "\n",
              "    .dataframe thead th {\n",
              "        text-align: right;\n",
              "    }\n",
              "</style>\n",
              "<table border=\"1\" class=\"dataframe\">\n",
              "  <thead>\n",
              "    <tr style=\"text-align: right;\">\n",
              "      <th></th>\n",
              "      <th>skor_akhir</th>\n",
              "    </tr>\n",
              "  </thead>\n",
              "  <tbody>\n",
              "    <tr>\n",
              "      <th>count</th>\n",
              "      <td>7789.000000</td>\n",
              "    </tr>\n",
              "    <tr>\n",
              "      <th>mean</th>\n",
              "      <td>77.891167</td>\n",
              "    </tr>\n",
              "    <tr>\n",
              "      <th>std</th>\n",
              "      <td>20.706783</td>\n",
              "    </tr>\n",
              "    <tr>\n",
              "      <th>min</th>\n",
              "      <td>0.000000</td>\n",
              "    </tr>\n",
              "    <tr>\n",
              "      <th>25%</th>\n",
              "      <td>78.000000</td>\n",
              "    </tr>\n",
              "    <tr>\n",
              "      <th>50%</th>\n",
              "      <td>81.700000</td>\n",
              "    </tr>\n",
              "    <tr>\n",
              "      <th>75%</th>\n",
              "      <td>87.000000</td>\n",
              "    </tr>\n",
              "    <tr>\n",
              "      <th>max</th>\n",
              "      <td>100.000000</td>\n",
              "    </tr>\n",
              "  </tbody>\n",
              "</table>\n",
              "</div>\n",
              "    <div class=\"colab-df-buttons\">\n",
              "\n",
              "  <div class=\"colab-df-container\">\n",
              "    <button class=\"colab-df-convert\" onclick=\"convertToInteractive('df-56efad9a-815b-4098-bef9-230bfc537687')\"\n",
              "            title=\"Convert this dataframe to an interactive table.\"\n",
              "            style=\"display:none;\">\n",
              "\n",
              "  <svg xmlns=\"http://www.w3.org/2000/svg\" height=\"24px\" viewBox=\"0 -960 960 960\">\n",
              "    <path d=\"M120-120v-720h720v720H120Zm60-500h600v-160H180v160Zm220 220h160v-160H400v160Zm0 220h160v-160H400v160ZM180-400h160v-160H180v160Zm440 0h160v-160H620v160ZM180-180h160v-160H180v160Zm440 0h160v-160H620v160Z\"/>\n",
              "  </svg>\n",
              "    </button>\n",
              "\n",
              "  <style>\n",
              "    .colab-df-container {\n",
              "      display:flex;\n",
              "      gap: 12px;\n",
              "    }\n",
              "\n",
              "    .colab-df-convert {\n",
              "      background-color: #E8F0FE;\n",
              "      border: none;\n",
              "      border-radius: 50%;\n",
              "      cursor: pointer;\n",
              "      display: none;\n",
              "      fill: #1967D2;\n",
              "      height: 32px;\n",
              "      padding: 0 0 0 0;\n",
              "      width: 32px;\n",
              "    }\n",
              "\n",
              "    .colab-df-convert:hover {\n",
              "      background-color: #E2EBFA;\n",
              "      box-shadow: 0px 1px 2px rgba(60, 64, 67, 0.3), 0px 1px 3px 1px rgba(60, 64, 67, 0.15);\n",
              "      fill: #174EA6;\n",
              "    }\n",
              "\n",
              "    .colab-df-buttons div {\n",
              "      margin-bottom: 4px;\n",
              "    }\n",
              "\n",
              "    [theme=dark] .colab-df-convert {\n",
              "      background-color: #3B4455;\n",
              "      fill: #D2E3FC;\n",
              "    }\n",
              "\n",
              "    [theme=dark] .colab-df-convert:hover {\n",
              "      background-color: #434B5C;\n",
              "      box-shadow: 0px 1px 3px 1px rgba(0, 0, 0, 0.15);\n",
              "      filter: drop-shadow(0px 1px 2px rgba(0, 0, 0, 0.3));\n",
              "      fill: #FFFFFF;\n",
              "    }\n",
              "  </style>\n",
              "\n",
              "    <script>\n",
              "      const buttonEl =\n",
              "        document.querySelector('#df-56efad9a-815b-4098-bef9-230bfc537687 button.colab-df-convert');\n",
              "      buttonEl.style.display =\n",
              "        google.colab.kernel.accessAllowed ? 'block' : 'none';\n",
              "\n",
              "      async function convertToInteractive(key) {\n",
              "        const element = document.querySelector('#df-56efad9a-815b-4098-bef9-230bfc537687');\n",
              "        const dataTable =\n",
              "          await google.colab.kernel.invokeFunction('convertToInteractive',\n",
              "                                                    [key], {});\n",
              "        if (!dataTable) return;\n",
              "\n",
              "        const docLinkHtml = 'Like what you see? Visit the ' +\n",
              "          '<a target=\"_blank\" href=https://colab.research.google.com/notebooks/data_table.ipynb>data table notebook</a>'\n",
              "          + ' to learn more about interactive tables.';\n",
              "        element.innerHTML = '';\n",
              "        dataTable['output_type'] = 'display_data';\n",
              "        await google.colab.output.renderOutput(dataTable, element);\n",
              "        const docLink = document.createElement('div');\n",
              "        docLink.innerHTML = docLinkHtml;\n",
              "        element.appendChild(docLink);\n",
              "      }\n",
              "    </script>\n",
              "  </div>\n",
              "\n",
              "\n",
              "<div id=\"df-27c79155-3b0d-464a-8c43-c9185a78cfe7\">\n",
              "  <button class=\"colab-df-quickchart\" onclick=\"quickchart('df-27c79155-3b0d-464a-8c43-c9185a78cfe7')\"\n",
              "            title=\"Suggest charts\"\n",
              "            style=\"display:none;\">\n",
              "\n",
              "<svg xmlns=\"http://www.w3.org/2000/svg\" height=\"24px\"viewBox=\"0 0 24 24\"\n",
              "     width=\"24px\">\n",
              "    <g>\n",
              "        <path d=\"M19 3H5c-1.1 0-2 .9-2 2v14c0 1.1.9 2 2 2h14c1.1 0 2-.9 2-2V5c0-1.1-.9-2-2-2zM9 17H7v-7h2v7zm4 0h-2V7h2v10zm4 0h-2v-4h2v4z\"/>\n",
              "    </g>\n",
              "</svg>\n",
              "  </button>\n",
              "\n",
              "<style>\n",
              "  .colab-df-quickchart {\n",
              "      --bg-color: #E8F0FE;\n",
              "      --fill-color: #1967D2;\n",
              "      --hover-bg-color: #E2EBFA;\n",
              "      --hover-fill-color: #174EA6;\n",
              "      --disabled-fill-color: #AAA;\n",
              "      --disabled-bg-color: #DDD;\n",
              "  }\n",
              "\n",
              "  [theme=dark] .colab-df-quickchart {\n",
              "      --bg-color: #3B4455;\n",
              "      --fill-color: #D2E3FC;\n",
              "      --hover-bg-color: #434B5C;\n",
              "      --hover-fill-color: #FFFFFF;\n",
              "      --disabled-bg-color: #3B4455;\n",
              "      --disabled-fill-color: #666;\n",
              "  }\n",
              "\n",
              "  .colab-df-quickchart {\n",
              "    background-color: var(--bg-color);\n",
              "    border: none;\n",
              "    border-radius: 50%;\n",
              "    cursor: pointer;\n",
              "    display: none;\n",
              "    fill: var(--fill-color);\n",
              "    height: 32px;\n",
              "    padding: 0;\n",
              "    width: 32px;\n",
              "  }\n",
              "\n",
              "  .colab-df-quickchart:hover {\n",
              "    background-color: var(--hover-bg-color);\n",
              "    box-shadow: 0 1px 2px rgba(60, 64, 67, 0.3), 0 1px 3px 1px rgba(60, 64, 67, 0.15);\n",
              "    fill: var(--button-hover-fill-color);\n",
              "  }\n",
              "\n",
              "  .colab-df-quickchart-complete:disabled,\n",
              "  .colab-df-quickchart-complete:disabled:hover {\n",
              "    background-color: var(--disabled-bg-color);\n",
              "    fill: var(--disabled-fill-color);\n",
              "    box-shadow: none;\n",
              "  }\n",
              "\n",
              "  .colab-df-spinner {\n",
              "    border: 2px solid var(--fill-color);\n",
              "    border-color: transparent;\n",
              "    border-bottom-color: var(--fill-color);\n",
              "    animation:\n",
              "      spin 1s steps(1) infinite;\n",
              "  }\n",
              "\n",
              "  @keyframes spin {\n",
              "    0% {\n",
              "      border-color: transparent;\n",
              "      border-bottom-color: var(--fill-color);\n",
              "      border-left-color: var(--fill-color);\n",
              "    }\n",
              "    20% {\n",
              "      border-color: transparent;\n",
              "      border-left-color: var(--fill-color);\n",
              "      border-top-color: var(--fill-color);\n",
              "    }\n",
              "    30% {\n",
              "      border-color: transparent;\n",
              "      border-left-color: var(--fill-color);\n",
              "      border-top-color: var(--fill-color);\n",
              "      border-right-color: var(--fill-color);\n",
              "    }\n",
              "    40% {\n",
              "      border-color: transparent;\n",
              "      border-right-color: var(--fill-color);\n",
              "      border-top-color: var(--fill-color);\n",
              "    }\n",
              "    60% {\n",
              "      border-color: transparent;\n",
              "      border-right-color: var(--fill-color);\n",
              "    }\n",
              "    80% {\n",
              "      border-color: transparent;\n",
              "      border-right-color: var(--fill-color);\n",
              "      border-bottom-color: var(--fill-color);\n",
              "    }\n",
              "    90% {\n",
              "      border-color: transparent;\n",
              "      border-bottom-color: var(--fill-color);\n",
              "    }\n",
              "  }\n",
              "</style>\n",
              "\n",
              "  <script>\n",
              "    async function quickchart(key) {\n",
              "      const quickchartButtonEl =\n",
              "        document.querySelector('#' + key + ' button');\n",
              "      quickchartButtonEl.disabled = true;  // To prevent multiple clicks.\n",
              "      quickchartButtonEl.classList.add('colab-df-spinner');\n",
              "      try {\n",
              "        const charts = await google.colab.kernel.invokeFunction(\n",
              "            'suggestCharts', [key], {});\n",
              "      } catch (error) {\n",
              "        console.error('Error during call to suggestCharts:', error);\n",
              "      }\n",
              "      quickchartButtonEl.classList.remove('colab-df-spinner');\n",
              "      quickchartButtonEl.classList.add('colab-df-quickchart-complete');\n",
              "    }\n",
              "    (() => {\n",
              "      let quickchartButtonEl =\n",
              "        document.querySelector('#df-27c79155-3b0d-464a-8c43-c9185a78cfe7 button');\n",
              "      quickchartButtonEl.style.display =\n",
              "        google.colab.kernel.accessAllowed ? 'block' : 'none';\n",
              "    })();\n",
              "  </script>\n",
              "</div>\n",
              "    </div>\n",
              "  </div>\n"
            ]
          },
          "metadata": {},
          "execution_count": 34
        }
      ]
    },
    {
      "cell_type": "code",
      "source": [
        "#mengubah type data kolom rating kelas menjadi float\n",
        "data['rating_kelas'] = data['rating_kelas'].astype(float)"
      ],
      "metadata": {
        "id": "LAzV5xMKBdO1"
      },
      "execution_count": null,
      "outputs": []
    },
    {
      "cell_type": "code",
      "source": [
        "# melakukan uji normalitas pada skor_akhir\n",
        "stat1, p1 = stats.kstest(data['skor_akhir'], 'norm')\n",
        "\n",
        "# menampilkan hasil uji\n",
        "print(\"Uji normalitas pada skor_akhir\")\n",
        "print(\"statistik =\", stat1)\n",
        "print(\"p-value =\", p1)\n",
        "\n",
        "# menentukan kesimpulan berdasarkan p-value\n",
        "if p1 > 0.05:\n",
        "    print(\"Data skor_akhir berdistribusi normal\")\n",
        "else:\n",
        "    print(\"Data skor_akhir tidak berdistribusi normal\")\n",
        "\n",
        "# melakukan uji normalitas pada rating_kelas\n",
        "stat2, p2 = stats.kstest(data['rating_kelas'], 'norm')\n",
        "\n",
        "# menampilkan hasil uji\n",
        "print(\"Uji normalitas pada rating_kelas\")\n",
        "print(\"statistik =\", stat2)\n",
        "print(\"p-value =\", p2)\n",
        "\n",
        "# menentukan kesimpulan berdasarkan p-value\n",
        "if p2 > 0.05:\n",
        "    print(\"Data rating_kelas berdistribusi normal\")\n",
        "else:\n",
        "    print(\"Data rating_kelas tidak berdistribusi normal\")\n"
      ],
      "metadata": {
        "colab": {
          "base_uri": "https://localhost:8080/"
        },
        "id": "4OxUM5mZHXGd",
        "outputId": "e5f57fa2-21bf-4b92-ca98-596c41dcc1df"
      },
      "execution_count": null,
      "outputs": [
        {
          "output_type": "stream",
          "name": "stdout",
          "text": [
            "Uji normalitas pada skor_akhir\n",
            "statistik = 0.9576018363321688\n",
            "p-value = 0.0\n",
            "Data skor_akhir tidak berdistribusi normal\n",
            "Uji normalitas pada rating_kelas\n",
            "statistik = 0.9949269025846236\n",
            "p-value = 0.0\n",
            "Data rating_kelas tidak berdistribusi normal\n"
          ]
        }
      ]
    },
    {
      "cell_type": "markdown",
      "source": [
        "Jika p-value < 0,05 maka H0 ditolak, artinya data tidak berdistribusi normal. Jika p-value > 0,05 maka H0 diterima, artinya data berdistribusi normal"
      ],
      "metadata": {
        "id": "3JIp3vZ5J-1e"
      }
    },
    {
      "cell_type": "code",
      "source": [
        "# membuat histogram skor_akhir\n",
        "plt.hist(data['skor_akhir'])\n",
        "plt.title('Histogram skor_akhir')\n",
        "plt.xlabel('skor_akhir')\n",
        "plt.ylabel('frekuensi')\n",
        "plt.show()\n",
        "\n",
        "# membuat histogram rating_kelas\n",
        "plt.hist(data['rating_kelas'])\n",
        "plt.title('Histogram rating_kelas')\n",
        "plt.xlabel('rating_kelas')\n",
        "plt.ylabel('frekuensi')\n",
        "plt.show()\n",
        "\n",
        "# membuat Q-Q plot skor_akhir\n",
        "stats.probplot(data['skor_akhir'], plot=plt)\n",
        "plt.title('Q-Q plot skor_akhir')\n",
        "plt.show()\n",
        "\n",
        "# membuat Q-Q plot rating_kelas\n",
        "stats.probplot(data['rating_kelas'], plot=plt)\n",
        "plt.title('Q-Q plot rating_kelas')\n",
        "plt.show()\n"
      ],
      "metadata": {
        "colab": {
          "base_uri": "https://localhost:8080/",
          "height": 1000
        },
        "id": "-DZ5rX9ZHbEd",
        "outputId": "abbf4fe3-68c9-460c-a601-4bc698f4d205"
      },
      "execution_count": null,
      "outputs": [
        {
          "output_type": "display_data",
          "data": {
            "text/plain": [
              "<Figure size 640x480 with 1 Axes>"
            ],
            "image/png": "[encoded data removed]"
          },
          "metadata": {}
        },
        {
          "output_type": "display_data",
          "data": {
            "text/plain": [
              "<Figure size 640x480 with 1 Axes>"
            ],
            "image/png": "[encoded data removed]"
          },
          "metadata": {}
        },
        {
          "output_type": "display_data",
          "data": {
            "text/plain": [
              "<Figure size 640x480 with 1 Axes>"
            ],
            "image/png": "[encoded data removed]"
          },
          "metadata": {}
        },
        {
          "output_type": "display_data",
          "data": {
            "text/plain": [
              "<Figure size 640x480 with 1 Axes>"
            ],
            "image/png": "[encoded data removed]"
          },
          "metadata": {}
        }
      ]
    },
    {
      "cell_type": "markdown",
      "source": [
        "berarti bahwa variabel skor_akhir dan rating_kelas tidak memiliki hubungan linier yang kuat"
      ],
      "metadata": {
        "id": "RLuRQaZo7bRX"
      }
    },
    {
      "cell_type": "code",
      "source": [
        "#uji menggunakan linear regresi sederhana\n",
        "X = data[['skor_akhir']]\n",
        "Y = data['rating_kelas']\n",
        "lr = LinearRegression()\n",
        "lr.fit(X,Y)\n",
        "lr.score(X,Y)"
      ],
      "metadata": {
        "colab": {
          "base_uri": "https://localhost:8080/"
        },
        "id": "ukZ-6ynQFWjm",
        "outputId": "032e4647-46f1-4abc-f78a-960a4d670f70"
      },
      "execution_count": null,
      "outputs": [
        {
          "output_type": "execute_result",
          "data": {
            "text/plain": [
              "7.47185962481911e-05"
            ]
          },
          "metadata": {},
          "execution_count": 38
        }
      ]
    },
    {
      "cell_type": "markdown",
      "source": [
        "nilai skor regresi linier yang sangat rendah (7.47185962481911e-05) menunjukkan bahwa model tidak sesuai dengan data dengan baik. Ini bisa berarti bahwa variabel skor_akhir dan rating_kelas tidak memiliki hubungan linier yang kuat"
      ],
      "metadata": {
        "id": "hG3f4-j5FilD"
      }
    },
    {
      "cell_type": "code",
      "source": [
        "# Mengambil data skor_akhir dan rating_kelas\n",
        "data_skor_rating = data[['skor_akhir', 'rating_kelas']]\n",
        "\n",
        "# Visualisasi Scatter Plot\n",
        "sns.scatterplot(x='skor_akhir', y='rating_kelas', data=data_skor_rating)\n",
        "plt.title('Scatter Plot Skor Akhir vs. Rating Kelas')\n",
        "plt.xlabel('Skor Akhir')\n",
        "plt.ylabel('Rating Kelas')\n",
        "plt.show()\n",
        "\n",
        "# Uji korelasi Pearson\n",
        "corr_coefficient, p_value_corr = pearsonr(data_skor_rating['skor_akhir'], data_skor_rating['rating_kelas'])\n",
        "\n",
        "# Menampilkan hasil uji korelasi\n",
        "if p_value_corr < 0.05:\n",
        "    print(f'Korelasi Pearson = {corr_coefficient:.4f}. p-value = {p_value_corr:.4f}. Hipotesis nol ditolak. Ada korelasi yang signifikan.')\n",
        "else:\n",
        "    print(f'Korelasi Pearson = {corr_coefficient:.4f}. p-value = {p_value_corr:.4f}. Hipotesis nol diterima. Tidak ada korelasi yang signifikan.')\n"
      ],
      "metadata": {
        "colab": {
          "base_uri": "https://localhost:8080/",
          "height": 490
        },
        "id": "edwGnB62FRFZ",
        "outputId": "6485c598-6e3f-4a32-9724-3195b4d9c4d6"
      },
      "execution_count": null,
      "outputs": [
        {
          "output_type": "display_data",
          "data": {
            "text/plain": [
              "<Figure size 640x480 with 1 Axes>"
            ],
            "image/png": "[encoded data removed]"
          },
          "metadata": {}
        },
        {
          "output_type": "stream",
          "name": "stdout",
          "text": [
            "Korelasi Pearson = 0.0086. p-value = 0.4456. Hipotesis nol diterima. Tidak ada korelasi yang signifikan.\n"
          ]
        }
      ]
    },
    {
      "cell_type": "code",
      "source": [
        "# Mengambil data skor_akhir dan rating_kelas\n",
        "data_skor_rating = data[['skor_akhir', 'rating_kelas']]\n",
        "\n",
        "# Visualisasi Scatter Plot\n",
        "sns.scatterplot(x='skor_akhir', y='rating_kelas', data=data_skor_rating)\n",
        "plt.title('Scatter Plot Skor Akhir vs. Rating Kelas')\n",
        "plt.xlabel('Skor Akhir')\n",
        "plt.ylabel('Rating Kelas')\n",
        "plt.show()\n",
        "\n",
        "# Uji korelasi Spearman\n",
        "from scipy.stats import spearmanr # impor fungsi spearmanr\n",
        "rho, p_value_corr = spearmanr(data_skor_rating['skor_akhir'], data_skor_rating['rating_kelas']) # hitung korelasi Spearman dan nilai p\n",
        "\n",
        "# Menampilkan hasil uji korelasi\n",
        "if p_value_corr < 0.05:\n",
        "    print(f'Korelasi Spearman = {rho:.4f}. p-value = {p_value_corr:.4f}. Hipotesis nol ditolak. Ada korelasi yang signifikan.')\n",
        "else:\n",
        "    print(f'Korelasi Spearman = {rho:.4f}. p-value = {p_value_corr:.4f}. Hipotesis nol diterima. Tidak ada korelasi yang signifikan.')\n"
      ],
      "metadata": {
        "id": "bl3AEsp1LxUy",
        "outputId": "febc03e0-ec28-41f1-9f58-7bd6c2b5b6d7",
        "colab": {
          "base_uri": "https://localhost:8080/",
          "height": 490
        }
      },
      "execution_count": null,
      "outputs": [
        {
          "output_type": "display_data",
          "data": {
            "text/plain": [
              "<Figure size 640x480 with 1 Axes>"
            ],
            "image/png": "[encoded data removed]"
          },
          "metadata": {}
        },
        {
          "output_type": "stream",
          "name": "stdout",
          "text": [
            "Korelasi Spearman = 0.0016. p-value = 0.8845. Hipotesis nol diterima. Tidak ada korelasi yang signifikan.\n"
          ]
        }
      ]
    },
    {
      "cell_type": "markdown",
      "source": [
        "## Bisnis Question 3\n",
        "Bagaimana perbandingan umur dan jenis kelamin pengguna pada bidang studi yang\n",
        "populer berdasarkan aktivitas belajar?"
      ],
      "metadata": {
        "id": "SF3SkASkHswO"
      }
    },
    {
      "cell_type": "code",
      "source": [
        "# menghitung aktivitas belajar untuk setiap bidang studi\n",
        "aktivitas = data.groupby('bidang_studi')['id_pengguna'].count()\n",
        "\n",
        "# menampilkan hasil perhitungan\n",
        "print(aktivitas)\n"
      ],
      "metadata": {
        "id": "zgUlmiq1IYnm",
        "colab": {
          "base_uri": "https://localhost:8080/"
        },
        "outputId": "c336f0cc-fa8d-4885-f02c-ad7bbe74d5fc"
      },
      "execution_count": null,
      "outputs": [
        {
          "output_type": "stream",
          "name": "stdout",
          "text": [
            "bidang_studi\n",
            "3D & Animasi                            1\n",
            "Administrasi                           39\n",
            "Administrasi Infrastruktur Jaringan     1\n",
            "Administrasi Pajak                      9\n",
            "Administrasi Perhotelan                 4\n",
            "                                       ..\n",
            "Teknologi Terapan                      34\n",
            "User Experience                         3\n",
            "User Interface                          1\n",
            "Videografi                             17\n",
            "Web Development                        10\n",
            "Name: id_pengguna, Length: 219, dtype: int64\n"
          ]
        }
      ]
    },
    {
      "cell_type": "code",
      "source": [
        "# mencari nilai maksimum dari aktivitas belajar\n",
        "max_aktivitas = aktivitas.max()\n",
        "\n",
        "# mencari nama bidang studi yang populer\n",
        "populer = aktivitas.idxmax()\n",
        "\n",
        "# menampilkan hasil pencarian\n",
        "print(\"Bidang studi yang populer adalah\", populer, \"dengan aktivitas belajar sebesar\", max_aktivitas)\n"
      ],
      "metadata": {
        "colab": {
          "base_uri": "https://localhost:8080/"
        },
        "id": "f03VhAvuNua7",
        "outputId": "c64ec1e9-c4ae-42e4-aceb-616c71c02d65"
      },
      "execution_count": null,
      "outputs": [
        {
          "output_type": "stream",
          "name": "stdout",
          "text": [
            "Bidang studi yang populer adalah Bisnis Manajemen dengan aktivitas belajar sebesar 682\n"
          ]
        }
      ]
    },
    {
      "cell_type": "code",
      "source": [
        "# membuat subset data\n",
        "data_populer = data.loc[data['bidang_studi'] == populer]\n",
        "\n",
        "# menampilkan subset data\n",
        "print(data_populer)\n"
      ],
      "metadata": {
        "colab": {
          "base_uri": "https://localhost:8080/"
        },
        "id": "G9HG5Ev1NzPr",
        "outputId": "9c66566b-59f8-49fd-e17e-f236f56ecb9c"
      },
      "execution_count": null,
      "outputs": [
        {
          "output_type": "stream",
          "name": "stdout",
          "text": [
            "                           id_pengguna      nama_pengguna tanggal_lahir  \\\n",
            "5     e54002bd545413dd006aef5c98925fd6       Tat*********    1991-10-17   \n",
            "20    631d49f722e23eb00957486e039c0a8a         NUR*******    2002-03-07   \n",
            "25    50dd0c33306f58a58b285604fda85495        Sam********    1975-07-01   \n",
            "33    9b669ea1464f2fa2d42dfac59d7a932d      ACH**********    1999-03-28   \n",
            "39    8101488c4a5bab53c80054ea87a8f489  Feb**************    2000-02-04   \n",
            "...                                ...                ...           ...   \n",
            "7935  c0e9ad926a4d3bbf4da74016c04b6570   Sit*************    1988-05-10   \n",
            "7941  1e16d0bb7bc5a40f476aca2baefc4afa         LEO*******    2001-01-15   \n",
            "7972  5f24180a159c9d0b58ddddcfaa878057      Ine**********    2002-10-04   \n",
            "7977  0f5e885db57290eed5d7101d7a1dbf35            Sum****    1973-04-28   \n",
            "7981  d941d2cccc12ce67c4eb528a54420ed9          Mad******    1997-01-16   \n",
            "\n",
            "     jenis_kelamin                          id_kelas  \\\n",
            "5             male  262cf9b725395d261f41ca335b0418c5   \n",
            "20          female  29180363a94d28fe61c65e6a43b8de20   \n",
            "25            male  6acf2a7bed7aa1b5dee0c8c2e2561fee   \n",
            "33            male  6acf2a7bed7aa1b5dee0c8c2e2561fee   \n",
            "39            male  5fbe20de9d18a770d0384784f846d74b   \n",
            "...            ...                               ...   \n",
            "7935        female  dc3621ce4201c03589a8555402a74bc3   \n",
            "7941          male  a55cb905c55182c4345b7fa3d4431d64   \n",
            "7972        female  6acf2a7bed7aa1b5dee0c8c2e2561fee   \n",
            "7977          male  28b205b90e6363c824c40fde4aca1aba   \n",
            "7981          male  262cf9b725395d261f41ca335b0418c5   \n",
            "\n",
            "                                             nama_kelas      bidang_studi  \\\n",
            "5     Men*******************************************...  Bisnis Manajemen   \n",
            "20    Men*******************************************...  Bisnis Manajemen   \n",
            "25                                    Dig**************  Bisnis Manajemen   \n",
            "33                                    Dig**************  Bisnis Manajemen   \n",
            "39                              Men********************  Bisnis Manajemen   \n",
            "...                                                 ...               ...   \n",
            "7935  Men*******************************************...  Bisnis Manajemen   \n",
            "7941  Tek*******************************************...  Bisnis Manajemen   \n",
            "7972                                  Dig**************  Bisnis Manajemen   \n",
            "7977  Str*******************************************...  Bisnis Manajemen   \n",
            "7981  Men*******************************************...  Bisnis Manajemen   \n",
            "\n",
            "      skor_akhir  rating_kelas aktivitas_belajar  \n",
            "5          81.70           5.0            daring  \n",
            "20         85.75           5.0            luring  \n",
            "25         81.70           5.0            luring  \n",
            "33         81.70           5.0            luring  \n",
            "39         81.70           5.0            daring  \n",
            "...          ...           ...               ...  \n",
            "7935       40.00           5.0            daring  \n",
            "7941       81.00           5.0            daring  \n",
            "7972      100.00           5.0            luring  \n",
            "7977        0.00           5.0            daring  \n",
            "7981      100.00           5.0            luring  \n",
            "\n",
            "[682 rows x 10 columns]\n"
          ]
        }
      ]
    },
    {
      "cell_type": "code",
      "source": [
        "# membuat fungsi untuk menghitung umur\n",
        "def hitung_umur(tanggal_lahir):\n",
        "    # menghitung selisih tanggal lahir dengan tanggal saat ini\n",
        "    selisih = datetime.datetime.now() - tanggal_lahir\n",
        "\n",
        "    # menghitung umur dalam tahun\n",
        "    umur = selisih.days // 365\n",
        "\n",
        "    # mengembalikan nilai umur\n",
        "    return umur\n",
        "\n",
        "# menghitung umur pengguna dengan menggunakan fungsi hitung_umur\n",
        "data_populer['umur'] = data_populer['tanggal_lahir'].apply(lambda x: hitung_umur(x))\n",
        "\n",
        "# menampilkan data dengan kolom umur\n",
        "print(data_populer)\n"
      ],
      "metadata": {
        "colab": {
          "base_uri": "https://localhost:8080/"
        },
        "id": "R2r0H1LzN6ui",
        "outputId": "2e1d4318-6e83-4b81-a3a2-920df82d386a"
      },
      "execution_count": null,
      "outputs": [
        {
          "output_type": "stream",
          "name": "stdout",
          "text": [
            "                           id_pengguna      nama_pengguna tanggal_lahir  \\\n",
            "5     e54002bd545413dd006aef5c98925fd6       Tat*********    1991-10-17   \n",
            "20    631d49f722e23eb00957486e039c0a8a         NUR*******    2002-03-07   \n",
            "25    50dd0c33306f58a58b285604fda85495        Sam********    1975-07-01   \n",
            "33    9b669ea1464f2fa2d42dfac59d7a932d      ACH**********    1999-03-28   \n",
            "39    8101488c4a5bab53c80054ea87a8f489  Feb**************    2000-02-04   \n",
            "...                                ...                ...           ...   \n",
            "7935  c0e9ad926a4d3bbf4da74016c04b6570   Sit*************    1988-05-10   \n",
            "7941  1e16d0bb7bc5a40f476aca2baefc4afa         LEO*******    2001-01-15   \n",
            "7972  5f24180a159c9d0b58ddddcfaa878057      Ine**********    2002-10-04   \n",
            "7977  0f5e885db57290eed5d7101d7a1dbf35            Sum****    1973-04-28   \n",
            "7981  d941d2cccc12ce67c4eb528a54420ed9          Mad******    1997-01-16   \n",
            "\n",
            "     jenis_kelamin                          id_kelas  \\\n",
            "5             male  262cf9b725395d261f41ca335b0418c5   \n",
            "20          female  29180363a94d28fe61c65e6a43b8de20   \n",
            "25            male  6acf2a7bed7aa1b5dee0c8c2e2561fee   \n",
            "33            male  6acf2a7bed7aa1b5dee0c8c2e2561fee   \n",
            "39            male  5fbe20de9d18a770d0384784f846d74b   \n",
            "...            ...                               ...   \n",
            "7935        female  dc3621ce4201c03589a8555402a74bc3   \n",
            "7941          male  a55cb905c55182c4345b7fa3d4431d64   \n",
            "7972        female  6acf2a7bed7aa1b5dee0c8c2e2561fee   \n",
            "7977          male  28b205b90e6363c824c40fde4aca1aba   \n",
            "7981          male  262cf9b725395d261f41ca335b0418c5   \n",
            "\n",
            "                                             nama_kelas      bidang_studi  \\\n",
            "5     Men*******************************************...  Bisnis Manajemen   \n",
            "20    Men*******************************************...  Bisnis Manajemen   \n",
            "25                                    Dig**************  Bisnis Manajemen   \n",
            "33                                    Dig**************  Bisnis Manajemen   \n",
            "39                              Men********************  Bisnis Manajemen   \n",
            "...                                                 ...               ...   \n",
            "7935  Men*******************************************...  Bisnis Manajemen   \n",
            "7941  Tek*******************************************...  Bisnis Manajemen   \n",
            "7972                                  Dig**************  Bisnis Manajemen   \n",
            "7977  Str*******************************************...  Bisnis Manajemen   \n",
            "7981  Men*******************************************...  Bisnis Manajemen   \n",
            "\n",
            "      skor_akhir  rating_kelas aktivitas_belajar  umur  \n",
            "5          81.70           5.0            daring    32  \n",
            "20         85.75           5.0            luring    21  \n",
            "25         81.70           5.0            luring    48  \n",
            "33         81.70           5.0            luring    24  \n",
            "39         81.70           5.0            daring    23  \n",
            "...          ...           ...               ...   ...  \n",
            "7935       40.00           5.0            daring    35  \n",
            "7941       81.00           5.0            daring    22  \n",
            "7972      100.00           5.0            luring    21  \n",
            "7977        0.00           5.0            daring    50  \n",
            "7981      100.00           5.0            luring    26  \n",
            "\n",
            "[682 rows x 11 columns]\n"
          ]
        },
        {
          "output_type": "stream",
          "name": "stderr",
          "text": [
            "<ipython-input-44-b7063c76d151>:13: SettingWithCopyWarning: \n",
            "A value is trying to be set on a copy of a slice from a DataFrame.\n",
            "Try using .loc[row_indexer,col_indexer] = value instead\n",
            "\n",
            "See the caveats in the documentation: https://pandas.pydata.org/pandas-docs/stable/user_guide/indexing.html#returning-a-view-versus-a-copy\n",
            "  data_populer['umur'] = data_populer['tanggal_lahir'].apply(lambda x: hitung_umur(x))\n"
          ]
        }
      ]
    },
    {
      "cell_type": "code",
      "source": [
        "# Membuat boxplot umur berdasarkan jenis kelamin dan aktivitas belajar\n",
        "sns.boxplot(x='jenis_kelamin', y='umur', hue='aktivitas_belajar', data=data_populer)\n",
        "plt.title('Boxplot umur & jenis kelamin berdasarkan aktivitas belajar')\n",
        "plt.xlabel('Jenis Kelamin')\n",
        "plt.ylabel('Umur')\n",
        "plt.show()\n",
        "\n",
        "# Membuat scatterplot umur berdasarkan jenis kelamin dan aktivitas belajar\n",
        "sns.scatterplot(data=data_populer, x='umur', y='jenis_kelamin', hue='aktivitas_belajar', palette='viridis', s=50)\n",
        "plt.title('Scatterplot umur & jenis kelamin berdasarkan aktivitas belajar')\n",
        "plt.xlabel('Umur')\n",
        "plt.ylabel('Jenis Kelamin')\n",
        "plt.legend(title='Aktivitas Belajar')\n",
        "plt.show()\n"
      ],
      "metadata": {
        "colab": {
          "base_uri": "https://localhost:8080/",
          "height": 927
        },
        "id": "OKcsTznryMg2",
        "outputId": "6e638f22-ff37-4e1f-ae2a-b3c4313cf199"
      },
      "execution_count": null,
      "outputs": [
        {
          "output_type": "display_data",
          "data": {
            "text/plain": [
              "<Figure size 640x480 with 1 Axes>"
            ],
            "image/png": "[encoded data removed]"
          },
          "metadata": {}
        },
        {
          "output_type": "display_data",
          "data": {
            "text/plain": [
              "<Figure size 640x480 with 1 Axes>"
            ],
            "image/png": "[encoded data removed]"
          },
          "metadata": {}
        }
      ]
    },
    {
      "cell_type": "markdown",
      "source": [
        "## Bisnis Question 4\n",
        "Jika tim bisnis ingin membuka kelas luring yang menargetkan pengguna daring untuk\n",
        "mendaftar pada peminatan tertentu. Rekomendasikan daftar pengguna daring yang\n",
        "dapat ditargetkan menjadi pengguna luring untuk peminatan bidang studi bahasa\n",
        "inggris?"
      ],
      "metadata": {
        "id": "PikX5_GxIPoK"
      }
    },
    {
      "cell_type": "code",
      "source": [
        "# membuat subset data\n",
        "data_inggris = data.loc[data['bidang_studi'] == 'Bahasa Inggris']\n",
        "\n",
        "# menampilkan subset data\n",
        "print(data_inggris)"
      ],
      "metadata": {
        "id": "FMGKRRr5IWz4",
        "colab": {
          "base_uri": "https://localhost:8080/"
        },
        "outputId": "64f48607-d01e-46ed-a716-f9afdb75e3df"
      },
      "execution_count": null,
      "outputs": [
        {
          "output_type": "stream",
          "name": "stdout",
          "text": [
            "                           id_pengguna       nama_pengguna tanggal_lahir  \\\n",
            "87    eb69db4445c577332ccec5442affce20           Nas******    1994-11-11   \n",
            "98    51713b470c80c76fe56958331cfe6d0e       DED**********    1975-05-28   \n",
            "100   ea936586a473fbb38b017889e725fab8               riz**    2001-12-22   \n",
            "102   d3afee770dc01ddb227f9c15f5af86d0      Dev***********    1999-12-08   \n",
            "158   930d543a07648535fc9085c6063a0110       Afa**********    1997-09-09   \n",
            "...                                ...                 ...           ...   \n",
            "7641  5cc9d61d1ff675e25b8d5a10d77f5556                Rom*    1987-05-22   \n",
            "7668  1ae166530183040c56944f100b979669         yus********    1973-06-24   \n",
            "7773  e5d564867957cbfffcb1713d5d5bc3c0        War*********    1996-01-01   \n",
            "7775  067238bc6aa45069942c3ed7b63bc2ee    fit*************    1996-08-05   \n",
            "7797  d49ffcae974661872a49030c97d18317  Cec***************    1998-01-30   \n",
            "\n",
            "     jenis_kelamin                          id_kelas  \\\n",
            "87            male  98c097fad98132c31139dc8de9ce69cd   \n",
            "98          female  f889466c886cbf9f655bbf2786fab97e   \n",
            "100           male  98c097fad98132c31139dc8de9ce69cd   \n",
            "102         female  7463e235f2937e3e5fdf254c29e8cc5f   \n",
            "158           male  7463e235f2937e3e5fdf254c29e8cc5f   \n",
            "...            ...                               ...   \n",
            "7641          male  2563a325d001d905733f035e76a99c94   \n",
            "7668        female  feecfe67ba84ce62086fc9e151fdd589   \n",
            "7773          male  feecfe67ba84ce62086fc9e151fdd589   \n",
            "7775        female  98c097fad98132c31139dc8de9ce69cd   \n",
            "7797          male  5d0203066f0ea2e8ae8b8df60919616e   \n",
            "\n",
            "                                             nama_kelas    bidang_studi  \\\n",
            "87       Kel*******************************************  Bahasa Inggris   \n",
            "98    Kom*******************************************...  Bahasa Inggris   \n",
            "100      Kel*******************************************  Bahasa Inggris   \n",
            "102       Kel******************************************  Bahasa Inggris   \n",
            "158       Kel******************************************  Bahasa Inggris   \n",
            "...                                                 ...             ...   \n",
            "7641         Tek***************************************  Bahasa Inggris   \n",
            "7668        Kel****************************************  Bahasa Inggris   \n",
            "7773        Kel****************************************  Bahasa Inggris   \n",
            "7775     Kel*******************************************  Bahasa Inggris   \n",
            "7797                 Bel*******************************  Bahasa Inggris   \n",
            "\n",
            "      skor_akhir  rating_kelas aktivitas_belajar  \n",
            "87          81.7           5.0            luring  \n",
            "98          91.0           5.0            luring  \n",
            "100         81.7           5.0            daring  \n",
            "102         81.7           5.0            luring  \n",
            "158         81.7           5.0            daring  \n",
            "...          ...           ...               ...  \n",
            "7641       100.0           5.0            luring  \n",
            "7668        81.7           5.0            luring  \n",
            "7773        70.0           5.0            luring  \n",
            "7775        45.0           5.0            luring  \n",
            "7797        81.7           5.0            daring  \n",
            "\n",
            "[229 rows x 10 columns]\n"
          ]
        }
      ]
    },
    {
      "cell_type": "code",
      "source": [
        "# melihat statistik deskriptif dari data numerik\n",
        "data_inggris.describe()\n",
        "\n",
        "# melihat frekuensi dari data kategorik\n",
        "data_inggris['jenis_kelamin'].value_counts()\n"
      ],
      "metadata": {
        "colab": {
          "base_uri": "https://localhost:8080/"
        },
        "id": "vcU13Fge0h7O",
        "outputId": "4ef05b21-9afb-4ab4-c2ea-c3fca7bc6ec4"
      },
      "execution_count": null,
      "outputs": [
        {
          "output_type": "execute_result",
          "data": {
            "text/plain": [
              "male      137\n",
              "female     92\n",
              "Name: jenis_kelamin, dtype: int64"
            ]
          },
          "metadata": {},
          "execution_count": 47
        }
      ]
    },
    {
      "cell_type": "code",
      "source": [
        "# membuat subset data dengan kriteria tertentu\n",
        "# dalam hal ini, kriteria adalah skor akhir di atas 80, rating kelas di atas 4, dan aktivitas belajar sama dengan \"daring\"\n",
        "data_target = data_inggris.loc[(data_inggris['skor_akhir'] <= 70) & (data_inggris['rating_kelas'] <= 5) & (data_inggris['aktivitas_belajar'] == 'daring')]\n",
        "\n",
        "# menampilkan subset data\n",
        "print(data_target)"
      ],
      "metadata": {
        "colab": {
          "base_uri": "https://localhost:8080/"
        },
        "id": "460Znlrj0pAU",
        "outputId": "5167a036-233c-4948-af87-b441c4ed899c"
      },
      "execution_count": null,
      "outputs": [
        {
          "output_type": "stream",
          "name": "stdout",
          "text": [
            "                           id_pengguna            nama_pengguna tanggal_lahir  \\\n",
            "1706  cc45efe4c08492eba974904e255771e4                  Fah****    1998-06-16   \n",
            "2127  0e176a8835d558d6e5f2a0aa0aa73f04                   PAR***    1999-06-15   \n",
            "2210  280a2d5063935b495141777892df988c             Tia*********    2001-03-13   \n",
            "2658  a7551e46c22aca9388d8976a2bcef1f2            yus**********    1980-02-16   \n",
            "3514  be64ef3766598ca9f12a04b019e531b1               Bah*******    1983-09-19   \n",
            "3636  fe863fd935bc8617c51908183e66a98c             HAI*********    1994-06-17   \n",
            "3743  4cc30bd954a14efedb5d75ab076b6033         EL *************    1991-11-20   \n",
            "3771  0bf58330ef70bbdf0a9859a8c6122af8             ELI*********    1993-02-12   \n",
            "4015  1ce712838f993ae1cdadd5d7ce2a1a16                Abu******    1947-03-02   \n",
            "5031  2a3c08d0043afc82fd09a90db98ced0a  Put********************    1992-02-04   \n",
            "5411  3dbc585e31637e7a82d6e61541284189              Yul********    1996-07-21   \n",
            "5598  4ed028387384d5396105c13ca577469d              Sri********    1983-03-10   \n",
            "6006  916b33aefe8f06bd9dc758654179b461                   Hal***    1979-05-25   \n",
            "\n",
            "     jenis_kelamin                          id_kelas  \\\n",
            "1706        female  7463e235f2937e3e5fdf254c29e8cc5f   \n",
            "2127        female  aa13230c84e3bfe7e1a7b0a364bb3c44   \n",
            "2210        female  f216132eb7367c692320edf26faa5543   \n",
            "2658          male  98c097fad98132c31139dc8de9ce69cd   \n",
            "3514        female  98c097fad98132c31139dc8de9ce69cd   \n",
            "3636          male  2563a325d001d905733f035e76a99c94   \n",
            "3743          male  feecfe67ba84ce62086fc9e151fdd589   \n",
            "3771          male  4783a14f5d5d06685c80c1e9a72381f0   \n",
            "4015          male  7463e235f2937e3e5fdf254c29e8cc5f   \n",
            "5031          male  feecfe67ba84ce62086fc9e151fdd589   \n",
            "5411        female  28e6435f60ee1c87d3df947bd6f3c2bb   \n",
            "5598        female  feecfe67ba84ce62086fc9e151fdd589   \n",
            "6006        female  7463e235f2937e3e5fdf254c29e8cc5f   \n",
            "\n",
            "                                             nama_kelas    bidang_studi  \\\n",
            "1706      Kel******************************************  Bahasa Inggris   \n",
            "2127           Mem*************************************  Bahasa Inggris   \n",
            "2210                              Jag******************  Bahasa Inggris   \n",
            "2658     Kel*******************************************  Bahasa Inggris   \n",
            "3514     Kel*******************************************  Bahasa Inggris   \n",
            "3636         Tek***************************************  Bahasa Inggris   \n",
            "3743        Kel****************************************  Bahasa Inggris   \n",
            "3771  Men*******************************************...  Bahasa Inggris   \n",
            "4015      Kel******************************************  Bahasa Inggris   \n",
            "5031        Kel****************************************  Bahasa Inggris   \n",
            "5411                                          Pre******  Bahasa Inggris   \n",
            "5598        Kel****************************************  Bahasa Inggris   \n",
            "6006      Kel******************************************  Bahasa Inggris   \n",
            "\n",
            "      skor_akhir  rating_kelas aktivitas_belajar  \n",
            "1706        33.9           5.0            daring  \n",
            "2127        66.5           5.0            daring  \n",
            "2210        68.0           5.0            daring  \n",
            "2658         0.0           5.0            daring  \n",
            "3514        66.0           5.0            daring  \n",
            "3636        66.0           4.0            daring  \n",
            "3743         0.0           4.0            daring  \n",
            "3771         0.0           5.0            daring  \n",
            "4015         0.0           5.0            daring  \n",
            "5031        60.0           5.0            daring  \n",
            "5411        29.6           5.0            daring  \n",
            "5598         0.0           5.0            daring  \n",
            "6006         0.0           5.0            daring  \n"
          ]
        }
      ]
    },
    {
      "cell_type": "code",
      "source": [
        "# membuat DataFrame dari list nama pengguna\n",
        "nama_target = data_target['nama_pengguna'].tolist()\n",
        "df_nama_target = pd.DataFrame({'nama_pengguna':nama_target})\n",
        "\n",
        "# menampilkan DataFrame\n",
        "print(df_nama_target)\n"
      ],
      "metadata": {
        "colab": {
          "base_uri": "https://localhost:8080/"
        },
        "id": "CkFYUCld4sAy",
        "outputId": "1d4752aa-417c-4ab8-ad0c-3bb7af1a64fb"
      },
      "execution_count": null,
      "outputs": [
        {
          "output_type": "stream",
          "name": "stdout",
          "text": [
            "              nama_pengguna\n",
            "0                   Fah****\n",
            "1                    PAR***\n",
            "2              Tia*********\n",
            "3             yus**********\n",
            "4                Bah*******\n",
            "5              HAI*********\n",
            "6          EL *************\n",
            "7              ELI*********\n",
            "8                 Abu******\n",
            "9   Put********************\n",
            "10              Yul********\n",
            "11              Sri********\n",
            "12                   Hal***\n"
          ]
        }
      ]
    },
    {
      "cell_type": "markdown",
      "source": [
        "# Menyimpan Hasil akhir"
      ],
      "metadata": {
        "id": "5M9wp4JothCs"
      }
    },
    {
      "cell_type": "code",
      "source": [
        "# Simpan ke file baru\n",
        "from google.colab import drive\n",
        "\n",
        "drive.mount('/content/drive')\n",
        "file_path = '/content/drive/MyDrive/data_bersih.csv'\n",
        "data.to_csv(file_path, index=False)"
      ],
      "metadata": {
        "id": "AqIUx1o2N9h4",
        "colab": {
          "base_uri": "https://localhost:8080/"
        },
        "outputId": "24f6ef75-2928-4a3b-a11c-6a9636efdf24"
      },
      "execution_count": null,
      "outputs": [
        {
          "output_type": "stream",
          "name": "stdout",
          "text": [
            "Mounted at /content/drive\n"
          ]
        }
      ]
    },
    {
      "cell_type": "code",
      "source": [
        "# membuat subset data dengan kriteria tertentu\n",
        "# dalam hal ini, kriteria adalah skor akhir di atas 70, rating kelas di atas 4, dan aktivitas belajar sama dengan \"daring\"\n",
        "data_rate = data.loc[(data['rating_kelas'] >= 5) ]\n",
        "\n",
        "# menampilkan subset data\n",
        "print(data_rate)"
      ],
      "metadata": {
        "id": "WSoPZXjzcv18",
        "colab": {
          "base_uri": "https://localhost:8080/"
        },
        "outputId": "215299a8-e364-4dc0-eed8-8bd3b5e15d7c"
      },
      "execution_count": null,
      "outputs": [
        {
          "output_type": "stream",
          "name": "stdout",
          "text": [
            "                           id_pengguna                       nama_pengguna  \\\n",
            "0     84712c881cf472d8afca2b957cd573b0                             V E****   \n",
            "1     747a026a8dab2607509f154d2c67f51d  Muh*******************************   \n",
            "2     4772f54956a70a1d1546494bb839760b                      WID***********   \n",
            "3     d6be63e9ae829aae2e0c09980e9d76c2       MUH**************************   \n",
            "4     406ab42268988ae9553faba35e3c06f2                 Ann****************   \n",
            "...                                ...                                 ...   \n",
            "7988  bc98fdd893e5aca3d4c8446b418b712f                             Ros****   \n",
            "7989  2b9998c2c60175c9d4993af96545b851                      SAN***********   \n",
            "7990  3b6f6030630e0449e71b72476b38429f                     M F************   \n",
            "7991  f4b6e9a1b3d496c8511ae9f31b7b10da                       LIL**********   \n",
            "7992  19e0cfe1c78ce38e4ec4fe8430840819    ELI*****************************   \n",
            "\n",
            "     tanggal_lahir jenis_kelamin                          id_kelas  \\\n",
            "0       1965-01-21        female  29a1e3ee5958cb12970a0c097fbe2089   \n",
            "1       1994-01-04          male  262cf9b725395d261f41ca335b0418c5   \n",
            "2       1986-07-26        female  4f1a38d85810407ee7b6de9b323b1acc   \n",
            "3       1991-08-13          male  89ecd896ec4b7ee6bbdab2f06faddaa8   \n",
            "4       2000-09-02        female  c4826ae22f2d08b3e46d2ac3fe4b793b   \n",
            "...            ...           ...                               ...   \n",
            "7988    1987-11-04        female  257372241ad5ceb24ba55386eae9d00f   \n",
            "7989    1991-05-25          male  b0d37a2a040d1045dd68b082807eb868   \n",
            "7990    1998-08-05          male  aa41c933852d886fdfaa96643402b69a   \n",
            "7991    1979-07-07        female  59b528760a14a73d90e8c6ec6b2b0848   \n",
            "7992    1997-06-18        female  8aec0ed033c1bc7a9833bd2e4f0f72e0   \n",
            "\n",
            "                                             nama_kelas  \\\n",
            "0            Men***************************************   \n",
            "1     Men*******************************************...   \n",
            "2                                  Gur*****************   \n",
            "3                Men***********************************   \n",
            "4       Tek********************************************   \n",
            "...                                                 ...   \n",
            "7988           Mem*************************************   \n",
            "7989        Pem****************************************   \n",
            "7990  Bel*******************************************...   \n",
            "7991  Mem*******************************************...   \n",
            "7992       Men*****************************************   \n",
            "\n",
            "                                          bidang_studi  skor_akhir  \\\n",
            "0                         Pengelolaan Keuangan Pribadi       87.00   \n",
            "1                                     Bahasa Indonesia       90.00   \n",
            "2                               Pendidikan & Pelatihan       70.00   \n",
            "3                     Pengolahan dan Penyajian Makanan       73.50   \n",
            "4                                          Soft Skills       81.70   \n",
            "...                                                ...         ...   \n",
            "7988                                         Pemasaran       84.98   \n",
            "7989                                   Web Development       51.25   \n",
            "7990                                     Desain Grafis       81.70   \n",
            "7991                                     Akidah Akhlaq       96.00   \n",
            "7992  Perawatan Wajah, Badan (Body Massage) dan Waxing       96.00   \n",
            "\n",
            "      rating_kelas aktivitas_belajar  \n",
            "0              5.0            daring  \n",
            "1              5.0            luring  \n",
            "2              5.0            daring  \n",
            "3              5.0            daring  \n",
            "4              5.0            luring  \n",
            "...            ...               ...  \n",
            "7988           5.0            daring  \n",
            "7989           5.0            luring  \n",
            "7990           5.0            luring  \n",
            "7991           5.0            luring  \n",
            "7992           5.0            luring  \n",
            "\n",
            "[7209 rows x 10 columns]\n"
          ]
        }
      ]
    },
    {
      "cell_type": "code",
      "source": [
        "# membuat subset data dengan kriteria tertentu\n",
        "# dalam hal ini, kriteria adalah skor akhir di atas 70, rating kelas di atas 4, dan aktivitas belajar sama dengan \"daring\"\n",
        "data_rate = data.loc[(data['skor_akhir'] >= 70) & (data['rating_kelas'] >= 5) ]\n",
        "\n",
        "# menampilkan subset data\n",
        "print(data_rate)"
      ],
      "metadata": {
        "id": "aQAoRpQo5BPq",
        "colab": {
          "base_uri": "https://localhost:8080/"
        },
        "outputId": "91fa216d-9248-4f24-b1d7-62642ae76bee"
      },
      "execution_count": null,
      "outputs": [
        {
          "output_type": "stream",
          "name": "stdout",
          "text": [
            "                           id_pengguna                       nama_pengguna  \\\n",
            "0     84712c881cf472d8afca2b957cd573b0                             V E****   \n",
            "1     747a026a8dab2607509f154d2c67f51d  Muh*******************************   \n",
            "2     4772f54956a70a1d1546494bb839760b                      WID***********   \n",
            "3     d6be63e9ae829aae2e0c09980e9d76c2       MUH**************************   \n",
            "4     406ab42268988ae9553faba35e3c06f2                 Ann****************   \n",
            "...                                ...                                 ...   \n",
            "7987  7526b4b03d267e24e14743da8d967b76                     Sop************   \n",
            "7988  bc98fdd893e5aca3d4c8446b418b712f                             Ros****   \n",
            "7990  3b6f6030630e0449e71b72476b38429f                     M F************   \n",
            "7991  f4b6e9a1b3d496c8511ae9f31b7b10da                       LIL**********   \n",
            "7992  19e0cfe1c78ce38e4ec4fe8430840819    ELI*****************************   \n",
            "\n",
            "     tanggal_lahir jenis_kelamin                          id_kelas  \\\n",
            "0       1965-01-21        female  29a1e3ee5958cb12970a0c097fbe2089   \n",
            "1       1994-01-04          male  262cf9b725395d261f41ca335b0418c5   \n",
            "2       1986-07-26        female  4f1a38d85810407ee7b6de9b323b1acc   \n",
            "3       1991-08-13          male  89ecd896ec4b7ee6bbdab2f06faddaa8   \n",
            "4       2000-09-02        female  c4826ae22f2d08b3e46d2ac3fe4b793b   \n",
            "...            ...           ...                               ...   \n",
            "7987    1982-02-17          male  262cf9b725395d261f41ca335b0418c5   \n",
            "7988    1987-11-04        female  257372241ad5ceb24ba55386eae9d00f   \n",
            "7990    1998-08-05          male  aa41c933852d886fdfaa96643402b69a   \n",
            "7991    1979-07-07        female  59b528760a14a73d90e8c6ec6b2b0848   \n",
            "7992    1997-06-18        female  8aec0ed033c1bc7a9833bd2e4f0f72e0   \n",
            "\n",
            "                                             nama_kelas  \\\n",
            "0            Men***************************************   \n",
            "1     Men*******************************************...   \n",
            "2                                  Gur*****************   \n",
            "3                Men***********************************   \n",
            "4       Tek********************************************   \n",
            "...                                                 ...   \n",
            "7987  Men*******************************************...   \n",
            "7988           Mem*************************************   \n",
            "7990  Bel*******************************************...   \n",
            "7991  Mem*******************************************...   \n",
            "7992       Men*****************************************   \n",
            "\n",
            "                                          bidang_studi  skor_akhir  \\\n",
            "0                         Pengelolaan Keuangan Pribadi       87.00   \n",
            "1                                     Bahasa Indonesia       90.00   \n",
            "2                               Pendidikan & Pelatihan       70.00   \n",
            "3                     Pengolahan dan Penyajian Makanan       73.50   \n",
            "4                                          Soft Skills       81.70   \n",
            "...                                                ...         ...   \n",
            "7987                               Digital & Teknologi       80.00   \n",
            "7988                                         Pemasaran       84.98   \n",
            "7990                                     Desain Grafis       81.70   \n",
            "7991                                     Akidah Akhlaq       96.00   \n",
            "7992  Perawatan Wajah, Badan (Body Massage) dan Waxing       96.00   \n",
            "\n",
            "      rating_kelas aktivitas_belajar  \n",
            "0              5.0            daring  \n",
            "1              5.0            luring  \n",
            "2              5.0            daring  \n",
            "3              5.0            daring  \n",
            "4              5.0            luring  \n",
            "...            ...               ...  \n",
            "7987           5.0            daring  \n",
            "7988           5.0            daring  \n",
            "7990           5.0            luring  \n",
            "7991           5.0            luring  \n",
            "7992           5.0            luring  \n",
            "\n",
            "[6248 rows x 10 columns]\n"
          ]
        }
      ]
    }
  ]
}